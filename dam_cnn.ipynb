{
  "cells": [
    {
      "cell_type": "markdown",
      "metadata": {
        "id": "view-in-github",
        "colab_type": "text"
      },
      "source": [
        "<a href=\"https://colab.research.google.com/github/AashishGh/DAM-CNN/blob/main/dam_cnn.ipynb\" target=\"_parent\"><img src=\"https://colab.research.google.com/assets/colab-badge.svg\" alt=\"Open In Colab\"/></a>"
      ]
    },
    {
      "cell_type": "markdown",
      "metadata": {
        "id": "NzvuyBumEM2Q"
      },
      "source": [
        "Experiment #1: Normal DAM and standard CNN on MNIST Dataset\n",
        "\n",
        "1.   List item\n",
        "2.   List item\n",
        "\n"
      ]
    },
    {
      "cell_type": "code",
      "execution_count": null,
      "metadata": {
        "id": "-n7-akWaLEnQ"
      },
      "outputs": [],
      "source": [
        "import torch\n",
        "import torch.nn as nn\n",
        "import torch.nn.functional as F\n",
        "import torch.optim as optim\n",
        "from torchvision import datasets, transforms\n",
        "from torch.utils.data import DataLoader\n",
        "\n",
        "# Define the Dense Associative Memory Layer\n",
        "class DenseAssociativeMemory(nn.Module):\n",
        "    def __init__(self, input_size, output_size):\n",
        "        super(DenseAssociativeMemory, self).__init__()\n",
        "        self.weights = nn.Parameter(torch.randn(input_size + output_size, input_size + output_size) * 0.01)\n",
        "\n",
        "    def forward(self, x):\n",
        "        # Extend input with zeros for classification neurons\n",
        "        extended_x = F.pad(x, (0, 10), \"constant\", 0)\n",
        "        # Calculate associative completion\n",
        "        output = torch.tanh(F.linear(extended_x, self.weights))\n",
        "        # Return only the classification part\n",
        "        return output[:, -10:]\n",
        "\n",
        "# Define CNN Architecture with Dense Associative Memory\n",
        "class CNNWithDenseAssociativeMemory(nn.Module):\n",
        "    def __init__(self):\n",
        "        super(CNNWithDenseAssociativeMemory, self).__init__()\n",
        "        self.conv1 = nn.Conv2d(1, 32, kernel_size=3, padding=1)\n",
        "        self.pool = nn.MaxPool2d(2, 2)\n",
        "        self.conv2 = nn.Conv2d(32, 64, kernel_size=3, padding=1)\n",
        "        self.fc1 = nn.Linear(7 * 7 * 64, 128)\n",
        "        self.dam = DenseAssociativeMemory(128, 10)\n",
        "\n",
        "    def forward(self, x):\n",
        "        x = self.pool(F.relu(self.conv1(x)))\n",
        "        x = self.pool(F.relu(self.conv2(x)))\n",
        "        x = x.view(x.size(0), -1)\n",
        "        x = F.relu(self.fc1(x))\n",
        "        x = self.dam(x)\n",
        "        return x\n",
        "\n"
      ]
    },
    {
      "cell_type": "code",
      "execution_count": null,
      "metadata": {
        "colab": {
          "base_uri": "https://localhost:8080/"
        },
        "id": "OJkdPkeOLkXK",
        "outputId": "467c8551-2cf5-4dcd-c152-b09c9044d06c"
      },
      "outputs": [
        {
          "name": "stdout",
          "output_type": "stream",
          "text": [
            "Downloading http://yann.lecun.com/exdb/mnist/train-images-idx3-ubyte.gz\n",
            "Downloading http://yann.lecun.com/exdb/mnist/train-images-idx3-ubyte.gz to ./data/MNIST/raw/train-images-idx3-ubyte.gz\n"
          ]
        },
        {
          "name": "stderr",
          "output_type": "stream",
          "text": [
            "100%|██████████| 9912422/9912422 [00:00<00:00, 108464979.38it/s]\n"
          ]
        },
        {
          "name": "stdout",
          "output_type": "stream",
          "text": [
            "Extracting ./data/MNIST/raw/train-images-idx3-ubyte.gz to ./data/MNIST/raw\n",
            "\n",
            "Downloading http://yann.lecun.com/exdb/mnist/train-labels-idx1-ubyte.gz\n",
            "Downloading http://yann.lecun.com/exdb/mnist/train-labels-idx1-ubyte.gz to ./data/MNIST/raw/train-labels-idx1-ubyte.gz\n"
          ]
        },
        {
          "name": "stderr",
          "output_type": "stream",
          "text": [
            "100%|██████████| 28881/28881 [00:00<00:00, 39139157.94it/s]\n"
          ]
        },
        {
          "name": "stdout",
          "output_type": "stream",
          "text": [
            "Extracting ./data/MNIST/raw/train-labels-idx1-ubyte.gz to ./data/MNIST/raw\n",
            "\n",
            "Downloading http://yann.lecun.com/exdb/mnist/t10k-images-idx3-ubyte.gz\n",
            "Downloading http://yann.lecun.com/exdb/mnist/t10k-images-idx3-ubyte.gz to ./data/MNIST/raw/t10k-images-idx3-ubyte.gz\n"
          ]
        },
        {
          "name": "stderr",
          "output_type": "stream",
          "text": [
            "100%|██████████| 1648877/1648877 [00:00<00:00, 24304661.38it/s]\n"
          ]
        },
        {
          "name": "stdout",
          "output_type": "stream",
          "text": [
            "Extracting ./data/MNIST/raw/t10k-images-idx3-ubyte.gz to ./data/MNIST/raw\n",
            "\n",
            "Downloading http://yann.lecun.com/exdb/mnist/t10k-labels-idx1-ubyte.gz\n",
            "Downloading http://yann.lecun.com/exdb/mnist/t10k-labels-idx1-ubyte.gz to ./data/MNIST/raw/t10k-labels-idx1-ubyte.gz\n"
          ]
        },
        {
          "name": "stderr",
          "output_type": "stream",
          "text": [
            "100%|██████████| 4542/4542 [00:00<00:00, 6993586.19it/s]\n"
          ]
        },
        {
          "name": "stdout",
          "output_type": "stream",
          "text": [
            "Extracting ./data/MNIST/raw/t10k-labels-idx1-ubyte.gz to ./data/MNIST/raw\n",
            "\n"
          ]
        }
      ],
      "source": [
        "# Load MNIST Data\n",
        "transform = transforms.Compose([\n",
        "    transforms.ToTensor(),\n",
        "    transforms.Normalize((0.1307,), (0.3081,))\n",
        "])\n",
        "\n",
        "train_dataset = datasets.MNIST('./data', train=True, download=True, transform=transform)\n",
        "test_dataset = datasets.MNIST('./data', train=False, transform=transform)\n",
        "\n",
        "train_loader = DataLoader(train_dataset, batch_size=64, shuffle=True)\n",
        "test_loader = DataLoader(test_dataset, batch_size=1000, shuffle=False)\n"
      ]
    },
    {
      "cell_type": "code",
      "execution_count": null,
      "metadata": {
        "id": "MRdx1962L2aD"
      },
      "outputs": [],
      "source": [
        "# Instantiate the model\n",
        "model = CNNWithDenseAssociativeMemory()\n",
        "\n",
        "# Define loss function and optimizer\n",
        "criterion = nn.CrossEntropyLoss()\n",
        "optimizer = optim.Adam(model.parameters(), lr=0.001)"
      ]
    },
    {
      "cell_type": "code",
      "execution_count": null,
      "metadata": {
        "colab": {
          "base_uri": "https://localhost:8080/"
        },
        "id": "k8e_e1qIMGQB",
        "outputId": "a37b04b7-710e-42f4-8fdb-c288f0887185"
      },
      "outputs": [
        {
          "name": "stdout",
          "output_type": "stream",
          "text": [
            "Train Epoch: 0 [0/60000 (0%)]\tLoss: 2.302316\n",
            "Train Epoch: 0 [6400/60000 (11%)]\tLoss: 0.980375\n",
            "Train Epoch: 0 [12800/60000 (21%)]\tLoss: 0.899826\n",
            "Train Epoch: 0 [19200/60000 (32%)]\tLoss: 0.876045\n",
            "Train Epoch: 0 [25600/60000 (43%)]\tLoss: 0.842009\n",
            "Train Epoch: 0 [32000/60000 (53%)]\tLoss: 0.861315\n",
            "Train Epoch: 0 [38400/60000 (64%)]\tLoss: 0.850053\n",
            "Train Epoch: 0 [44800/60000 (75%)]\tLoss: 0.861044\n",
            "Train Epoch: 0 [51200/60000 (85%)]\tLoss: 0.800160\n",
            "Train Epoch: 0 [57600/60000 (96%)]\tLoss: 0.895379\n",
            "Train Epoch: 1 [0/60000 (0%)]\tLoss: 0.854086\n",
            "Train Epoch: 1 [6400/60000 (11%)]\tLoss: 0.822072\n",
            "Train Epoch: 1 [12800/60000 (21%)]\tLoss: 0.844209\n",
            "Train Epoch: 1 [19200/60000 (32%)]\tLoss: 0.891172\n",
            "Train Epoch: 1 [25600/60000 (43%)]\tLoss: 0.827484\n",
            "Train Epoch: 1 [32000/60000 (53%)]\tLoss: 0.809307\n",
            "Train Epoch: 1 [38400/60000 (64%)]\tLoss: 0.838699\n",
            "Train Epoch: 1 [44800/60000 (75%)]\tLoss: 0.827941\n",
            "Train Epoch: 1 [51200/60000 (85%)]\tLoss: 0.803661\n",
            "Train Epoch: 1 [57600/60000 (96%)]\tLoss: 0.847557\n",
            "Train Epoch: 2 [0/60000 (0%)]\tLoss: 0.808291\n",
            "Train Epoch: 2 [6400/60000 (11%)]\tLoss: 0.828540\n",
            "Train Epoch: 2 [12800/60000 (21%)]\tLoss: 0.810407\n",
            "Train Epoch: 2 [19200/60000 (32%)]\tLoss: 0.824277\n",
            "Train Epoch: 2 [25600/60000 (43%)]\tLoss: 0.802588\n",
            "Train Epoch: 2 [32000/60000 (53%)]\tLoss: 0.810353\n",
            "Train Epoch: 2 [38400/60000 (64%)]\tLoss: 0.803690\n",
            "Train Epoch: 2 [44800/60000 (75%)]\tLoss: 0.812038\n",
            "Train Epoch: 2 [51200/60000 (85%)]\tLoss: 0.802105\n",
            "Train Epoch: 2 [57600/60000 (96%)]\tLoss: 0.810554\n",
            "Train Epoch: 3 [0/60000 (0%)]\tLoss: 0.797197\n",
            "Train Epoch: 3 [6400/60000 (11%)]\tLoss: 0.829818\n",
            "Train Epoch: 3 [12800/60000 (21%)]\tLoss: 0.815112\n",
            "Train Epoch: 3 [19200/60000 (32%)]\tLoss: 0.802211\n",
            "Train Epoch: 3 [25600/60000 (43%)]\tLoss: 0.797434\n",
            "Train Epoch: 3 [32000/60000 (53%)]\tLoss: 0.800099\n",
            "Train Epoch: 3 [38400/60000 (64%)]\tLoss: 0.802139\n",
            "Train Epoch: 3 [44800/60000 (75%)]\tLoss: 0.802780\n",
            "Train Epoch: 3 [51200/60000 (85%)]\tLoss: 0.820853\n",
            "Train Epoch: 3 [57600/60000 (96%)]\tLoss: 0.796626\n",
            "Train Epoch: 4 [0/60000 (0%)]\tLoss: 0.818576\n",
            "Train Epoch: 4 [6400/60000 (11%)]\tLoss: 0.798321\n",
            "Train Epoch: 4 [12800/60000 (21%)]\tLoss: 0.829690\n",
            "Train Epoch: 4 [19200/60000 (32%)]\tLoss: 0.806203\n",
            "Train Epoch: 4 [25600/60000 (43%)]\tLoss: 0.806742\n",
            "Train Epoch: 4 [32000/60000 (53%)]\tLoss: 0.802558\n",
            "Train Epoch: 4 [38400/60000 (64%)]\tLoss: 0.797112\n",
            "Train Epoch: 4 [44800/60000 (75%)]\tLoss: 0.800281\n",
            "Train Epoch: 4 [51200/60000 (85%)]\tLoss: 0.802314\n",
            "Train Epoch: 4 [57600/60000 (96%)]\tLoss: 0.799895\n"
          ]
        }
      ],
      "source": [
        "# Training loop\n",
        "num_epochs = 5\n",
        "for epoch in range(num_epochs):\n",
        "    model.train()\n",
        "    for batch_idx, (data, target) in enumerate(train_loader):\n",
        "        optimizer.zero_grad()\n",
        "        output = model(data)\n",
        "        loss = criterion(output, target)\n",
        "        loss.backward()\n",
        "        optimizer.step()\n",
        "\n",
        "        if batch_idx % 100 == 0:\n",
        "            print(f'Train Epoch: {epoch} [{batch_idx * len(data)}/{len(train_loader.dataset)} ({100. * batch_idx / len(train_loader):.0f}%)]\\tLoss: {loss.item():.6f}')\n"
      ]
    },
    {
      "cell_type": "code",
      "execution_count": null,
      "metadata": {
        "colab": {
          "base_uri": "https://localhost:8080/"
        },
        "id": "vw8HCbcxMHTT",
        "outputId": "0ef374ae-4a6d-4d68-bce4-df58fb8c8688"
      },
      "outputs": [
        {
          "name": "stdout",
          "output_type": "stream",
          "text": [
            "\n",
            "Test set: Average loss: 0.0008, Accuracy: 9891/10000 (99%)\n",
            "\n"
          ]
        }
      ],
      "source": [
        "# Testing loop\n",
        "model.eval()\n",
        "test_loss = 0\n",
        "correct = 0\n",
        "with torch.no_grad():\n",
        "    for data, target in test_loader:\n",
        "        output = model(data)\n",
        "        test_loss += criterion(output, target).item()\n",
        "        pred = output.argmax(dim=1, keepdim=True)\n",
        "        correct += pred.eq(target.view_as(pred)).sum().item()\n",
        "\n",
        "test_loss /= len(test_loader.dataset)\n",
        "print(f'\\nTest set: Average loss: {test_loss:.4f}, Accuracy: {correct}/{len(test_loader.dataset)} ({100. * correct / len(test_loader.dataset):.0f}%)\\n')\n"
      ]
    },
    {
      "cell_type": "markdown",
      "metadata": {
        "id": "kcAdVhqBEbyy"
      },
      "source": [
        "Experiment #2: Training on standard CIFAR 100 dataset for Epoch 10"
      ]
    },
    {
      "cell_type": "code",
      "execution_count": null,
      "metadata": {
        "id": "fOG-QBxREbD7"
      },
      "outputs": [],
      "source": [
        "import torch\n",
        "import torch.nn as nn\n",
        "import torch.nn.functional as F\n",
        "import torch.optim as optim\n",
        "from torchvision import datasets, transforms\n",
        "from torch.utils.data import DataLoader\n",
        "\n",
        "# Define the Dense Associative Memory Layer\n",
        "class DenseAssociativeMemory(nn.Module):\n",
        "    def __init__(self, input_size, output_size):\n",
        "        super(DenseAssociativeMemory, self).__init__()\n",
        "        self.weights = nn.Parameter(torch.randn(input_size + output_size, input_size + output_size) * 0.01)\n",
        "\n",
        "    def forward(self, x):\n",
        "        # Extend input with zeros for classification neurons\n",
        "        extended_x = F.pad(x, (0, 100), \"constant\", 0)\n",
        "        # Calculate associative completion\n",
        "        output = torch.tanh(F.linear(extended_x, self.weights))\n",
        "        # Return only the classification part\n",
        "        return output[:, -100:]\n",
        "\n",
        "# Define CNN Architecture with Dense Associative Memory\n",
        "class CNNWithDenseAssociativeMemory(nn.Module):\n",
        "    def __init__(self):\n",
        "        super(CNNWithDenseAssociativeMemory, self).__init__()\n",
        "        self.conv1 = nn.Conv2d(3, 32, kernel_size=3, padding=1)  # Change input channels to 3\n",
        "        self.pool = nn.MaxPool2d(2, 2)\n",
        "        self.conv2 = nn.Conv2d(32, 64, kernel_size=3, padding=1)\n",
        "        self.fc1 = nn.Linear(8*8*64, 128)  # Adjust input size based on the output size of the last convolutional layer\n",
        "        self.dam = DenseAssociativeMemory(128, 100)  # Change output size to 100 for CIFAR-100\n",
        "\n",
        "    def forward(self, x):\n",
        "        x = self.pool(F.relu(self.conv1(x)))\n",
        "        x = self.pool(F.relu(self.conv2(x)))\n",
        "        x = x.view(x.size(0), -1)\n",
        "        x = F.relu(self.fc1(x))\n",
        "        x = self.dam(x)\n",
        "        return x"
      ]
    },
    {
      "cell_type": "code",
      "execution_count": null,
      "metadata": {
        "colab": {
          "base_uri": "https://localhost:8080/"
        },
        "id": "nA9JhDy8Ek55",
        "outputId": "0fb4ea20-f3ec-40e0-cb7a-c6c9a5143c6e"
      },
      "outputs": [
        {
          "output_type": "stream",
          "name": "stdout",
          "text": [
            "Downloading https://www.cs.toronto.edu/~kriz/cifar-100-python.tar.gz to ./data/cifar-100-python.tar.gz\n"
          ]
        },
        {
          "output_type": "stream",
          "name": "stderr",
          "text": [
            "100%|██████████| 169001437/169001437 [00:12<00:00, 13205924.15it/s]\n"
          ]
        },
        {
          "output_type": "stream",
          "name": "stdout",
          "text": [
            "Extracting ./data/cifar-100-python.tar.gz to ./data\n"
          ]
        }
      ],
      "source": [
        "# Load CIFAR100 Data\n",
        "transform = transforms.Compose([\n",
        "    transforms.ToTensor(),\n",
        "    transforms.Normalize((0.1307,), (0.3081,))\n",
        "])\n",
        "\n",
        "train_dataset = datasets.CIFAR100('./data', train=True, download=True, transform=transform)\n",
        "test_dataset = datasets.CIFAR100('./data', train=False, transform=transform)\n",
        "\n",
        "train_loader = DataLoader(train_dataset, batch_size=64, shuffle=True)\n",
        "test_loader = DataLoader(test_dataset, batch_size=1000, shuffle=False)\n"
      ]
    },
    {
      "cell_type": "code",
      "execution_count": null,
      "metadata": {
        "colab": {
          "base_uri": "https://localhost:8080/"
        },
        "id": "iujxbmr9Lq5_",
        "outputId": "2351d9c1-44be-42e8-cc71-5e485dbf3edd"
      },
      "outputs": [
        {
          "data": {
            "text/plain": [
              "Dataset CIFAR100\n",
              "    Number of datapoints: 50000\n",
              "    Root location: ./data\n",
              "    Split: Train\n",
              "    StandardTransform\n",
              "Transform: Compose(\n",
              "               ToTensor()\n",
              "               Normalize(mean=(0.1307,), std=(0.3081,))\n",
              "           )"
            ]
          },
          "execution_count": 17,
          "metadata": {},
          "output_type": "execute_result"
        }
      ],
      "source": [
        "train_dataset\n"
      ]
    },
    {
      "cell_type": "code",
      "execution_count": null,
      "metadata": {
        "id": "DqnSU7gTFOjb"
      },
      "outputs": [],
      "source": [
        "# Instantiate the model\n",
        "model = CNNWithDenseAssociativeMemory()\n",
        "\n",
        "# Define loss function and optimizer\n",
        "criterion = nn.CrossEntropyLoss()\n",
        "optimizer = optim.Adam(model.parameters(), lr=0.001)"
      ]
    },
    {
      "cell_type": "code",
      "execution_count": null,
      "metadata": {
        "colab": {
          "base_uri": "https://localhost:8080/"
        },
        "id": "Qw6sKDonFQEZ",
        "outputId": "eca16c84-88aa-4efc-c2ae-fac595daf86e"
      },
      "outputs": [
        {
          "output_type": "stream",
          "name": "stdout",
          "text": [
            "Train Epoch: 0 [0/50000 (0%)]\tLoss: 4.355892\n",
            "Train Epoch: 0 [6400/50000 (13%)]\tLoss: 4.200499\n",
            "Train Epoch: 0 [12800/50000 (26%)]\tLoss: 3.958590\n",
            "Train Epoch: 0 [19200/50000 (38%)]\tLoss: 4.122213\n",
            "Train Epoch: 0 [25600/50000 (51%)]\tLoss: 3.969144\n",
            "Train Epoch: 0 [32000/50000 (64%)]\tLoss: 3.959088\n",
            "Train Epoch: 0 [38400/50000 (77%)]\tLoss: 3.821800\n",
            "Train Epoch: 0 [44800/50000 (90%)]\tLoss: 3.793010\n",
            "Train Epoch: 1 [0/50000 (0%)]\tLoss: 3.896667\n",
            "Train Epoch: 1 [6400/50000 (13%)]\tLoss: 3.724699\n",
            "Train Epoch: 1 [12800/50000 (26%)]\tLoss: 3.697129\n",
            "Train Epoch: 1 [19200/50000 (38%)]\tLoss: 3.792628\n",
            "Train Epoch: 1 [25600/50000 (51%)]\tLoss: 3.949065\n",
            "Train Epoch: 1 [32000/50000 (64%)]\tLoss: 3.808748\n",
            "Train Epoch: 1 [38400/50000 (77%)]\tLoss: 3.797431\n",
            "Train Epoch: 1 [44800/50000 (90%)]\tLoss: 3.721435\n",
            "Train Epoch: 2 [0/50000 (0%)]\tLoss: 3.738030\n",
            "Train Epoch: 2 [6400/50000 (13%)]\tLoss: 3.772837\n",
            "Train Epoch: 2 [12800/50000 (26%)]\tLoss: 3.663618\n",
            "Train Epoch: 2 [19200/50000 (38%)]\tLoss: 3.707700\n",
            "Train Epoch: 2 [25600/50000 (51%)]\tLoss: 3.576309\n",
            "Train Epoch: 2 [32000/50000 (64%)]\tLoss: 3.690804\n",
            "Train Epoch: 2 [38400/50000 (77%)]\tLoss: 3.557819\n",
            "Train Epoch: 2 [44800/50000 (90%)]\tLoss: 3.786327\n",
            "Train Epoch: 3 [0/50000 (0%)]\tLoss: 3.478994\n",
            "Train Epoch: 3 [6400/50000 (13%)]\tLoss: 3.710698\n",
            "Train Epoch: 3 [12800/50000 (26%)]\tLoss: 3.547493\n",
            "Train Epoch: 3 [19200/50000 (38%)]\tLoss: 3.468107\n",
            "Train Epoch: 3 [25600/50000 (51%)]\tLoss: 3.550754\n",
            "Train Epoch: 3 [32000/50000 (64%)]\tLoss: 3.472473\n",
            "Train Epoch: 3 [38400/50000 (77%)]\tLoss: 3.803991\n",
            "Train Epoch: 3 [44800/50000 (90%)]\tLoss: 3.697410\n",
            "Train Epoch: 4 [0/50000 (0%)]\tLoss: 3.458352\n",
            "Train Epoch: 4 [6400/50000 (13%)]\tLoss: 3.516932\n",
            "Train Epoch: 4 [12800/50000 (26%)]\tLoss: 3.477380\n",
            "Train Epoch: 4 [19200/50000 (38%)]\tLoss: 3.513588\n",
            "Train Epoch: 4 [25600/50000 (51%)]\tLoss: 3.540715\n",
            "Train Epoch: 4 [32000/50000 (64%)]\tLoss: 3.525700\n",
            "Train Epoch: 4 [38400/50000 (77%)]\tLoss: 3.485794\n",
            "Train Epoch: 4 [44800/50000 (90%)]\tLoss: 3.605272\n",
            "Train Epoch: 5 [0/50000 (0%)]\tLoss: 3.365417\n",
            "Train Epoch: 5 [6400/50000 (13%)]\tLoss: 3.538528\n",
            "Train Epoch: 5 [12800/50000 (26%)]\tLoss: 3.620126\n",
            "Train Epoch: 5 [19200/50000 (38%)]\tLoss: 3.457939\n",
            "Train Epoch: 5 [25600/50000 (51%)]\tLoss: 3.424268\n",
            "Train Epoch: 5 [32000/50000 (64%)]\tLoss: 3.547720\n",
            "Train Epoch: 5 [38400/50000 (77%)]\tLoss: 3.417629\n",
            "Train Epoch: 5 [44800/50000 (90%)]\tLoss: 3.540107\n",
            "Train Epoch: 6 [0/50000 (0%)]\tLoss: 3.496986\n",
            "Train Epoch: 6 [6400/50000 (13%)]\tLoss: 3.369521\n",
            "Train Epoch: 6 [12800/50000 (26%)]\tLoss: 3.517006\n",
            "Train Epoch: 6 [19200/50000 (38%)]\tLoss: 3.373711\n",
            "Train Epoch: 6 [25600/50000 (51%)]\tLoss: 3.523521\n",
            "Train Epoch: 6 [32000/50000 (64%)]\tLoss: 3.405432\n",
            "Train Epoch: 6 [38400/50000 (77%)]\tLoss: 3.490333\n",
            "Train Epoch: 6 [44800/50000 (90%)]\tLoss: 3.446097\n",
            "Train Epoch: 7 [0/50000 (0%)]\tLoss: 3.373408\n",
            "Train Epoch: 7 [6400/50000 (13%)]\tLoss: 3.527855\n",
            "Train Epoch: 7 [12800/50000 (26%)]\tLoss: 3.429412\n",
            "Train Epoch: 7 [19200/50000 (38%)]\tLoss: 3.382864\n",
            "Train Epoch: 7 [25600/50000 (51%)]\tLoss: 3.579555\n",
            "Train Epoch: 7 [32000/50000 (64%)]\tLoss: 3.436055\n",
            "Train Epoch: 7 [38400/50000 (77%)]\tLoss: 3.360109\n",
            "Train Epoch: 7 [44800/50000 (90%)]\tLoss: 3.363312\n",
            "Train Epoch: 8 [0/50000 (0%)]\tLoss: 3.318694\n",
            "Train Epoch: 8 [6400/50000 (13%)]\tLoss: 3.275659\n",
            "Train Epoch: 8 [12800/50000 (26%)]\tLoss: 3.396465\n",
            "Train Epoch: 8 [19200/50000 (38%)]\tLoss: 3.297382\n",
            "Train Epoch: 8 [25600/50000 (51%)]\tLoss: 3.355260\n",
            "Train Epoch: 8 [32000/50000 (64%)]\tLoss: 3.416630\n",
            "Train Epoch: 8 [38400/50000 (77%)]\tLoss: 3.425736\n",
            "Train Epoch: 8 [44800/50000 (90%)]\tLoss: 3.387917\n",
            "Train Epoch: 9 [0/50000 (0%)]\tLoss: 3.275277\n",
            "Train Epoch: 9 [6400/50000 (13%)]\tLoss: 3.261955\n",
            "Train Epoch: 9 [12800/50000 (26%)]\tLoss: 3.369466\n",
            "Train Epoch: 9 [19200/50000 (38%)]\tLoss: 3.430940\n",
            "Train Epoch: 9 [25600/50000 (51%)]\tLoss: 3.303740\n",
            "Train Epoch: 9 [32000/50000 (64%)]\tLoss: 3.138663\n",
            "Train Epoch: 9 [38400/50000 (77%)]\tLoss: 3.315858\n",
            "Train Epoch: 9 [44800/50000 (90%)]\tLoss: 3.339542\n"
          ]
        }
      ],
      "source": [
        "# Training loop\n",
        "num_epochs = 10\n",
        "for epoch in range(num_epochs):\n",
        "    model.train()\n",
        "    for batch_idx, (data, target) in enumerate(train_loader):\n",
        "        optimizer.zero_grad()\n",
        "        output = model(data)\n",
        "        loss = criterion(output, target)\n",
        "        loss.backward()\n",
        "        optimizer.step()\n",
        "\n",
        "        if batch_idx % 100 == 0:\n",
        "            print(f'Train Epoch: {epoch} [{batch_idx * len(data)}/{len(train_loader.dataset)} ({100. * batch_idx / len(train_loader):.0f}%)]\\tLoss: {loss.item():.6f}')\n"
      ]
    },
    {
      "cell_type": "code",
      "source": [
        "# Testing loop\n",
        "model.eval()\n",
        "test_loss = 0\n",
        "correct = 0\n",
        "with torch.no_grad():\n",
        "    for data, target in test_loader:\n",
        "        output = model(data)\n",
        "        test_loss += criterion(output, target).item()\n",
        "        pred = output.argmax(dim=1, keepdim=True)\n",
        "        correct += pred.eq(target.view_as(pred)).sum().item()\n",
        "\n",
        "test_loss /= len(test_loader.dataset)\n",
        "print(f'\\nTest set: Average loss: {test_loss:.4f}, Accuracy: {correct}/{len(test_loader.dataset)} ({100. * correct / len(test_loader.dataset):.0f}%)\\n')\n"
      ],
      "metadata": {
        "colab": {
          "base_uri": "https://localhost:8080/"
        },
        "id": "oBdQ7NnTogZK",
        "outputId": "24ace6c3-e6ae-49b7-f119-0ca251a1e456"
      },
      "execution_count": null,
      "outputs": [
        {
          "output_type": "stream",
          "name": "stdout",
          "text": [
            "\n",
            "Test set: Average loss: 0.0035, Accuracy: 2866/10000 (29%)\n",
            "\n"
          ]
        }
      ]
    },
    {
      "cell_type": "markdown",
      "source": [
        "Experiment #3:\n",
        "Training on standard CIFAR 100 dataset for Epoch 10 with rotating train image and test image by 30 degree both.\n"
      ],
      "metadata": {
        "id": "8RW61GUwopBU"
      }
    },
    {
      "cell_type": "code",
      "source": [
        "import torch\n",
        "import torch.nn as nn\n",
        "import torch.nn.functional as F\n",
        "import torch.optim as optim\n",
        "from torchvision import datasets, transforms\n",
        "from torch.utils.data import DataLoader\n",
        "\n",
        "# Define the Dense Associative Memory Layer\n",
        "class DenseAssociativeMemory(nn.Module):\n",
        "    def __init__(self, input_size, output_size):\n",
        "        super(DenseAssociativeMemory, self).__init__()\n",
        "        self.weights = nn.Parameter(torch.randn(input_size + output_size, input_size + output_size) * 0.01)\n",
        "\n",
        "    def forward(self, x):\n",
        "        # Extend input with zeros for classification neurons\n",
        "        extended_x = F.pad(x, (0, 100), \"constant\", 0)\n",
        "        # Calculate associative completion\n",
        "        output = torch.tanh(F.linear(extended_x, self.weights))\n",
        "        # Return only the classification part\n",
        "        return output[:, -100:]\n",
        "\n",
        "# Define CNN Architecture with Dense Associative Memory\n",
        "class CNNWithDenseAssociativeMemory(nn.Module):\n",
        "    def __init__(self):\n",
        "        super(CNNWithDenseAssociativeMemory, self).__init__()\n",
        "        self.conv1 = nn.Conv2d(3, 32, kernel_size=3, padding=1)  # Change input channels to 3\n",
        "        self.pool = nn.MaxPool2d(2, 2)\n",
        "        self.conv2 = nn.Conv2d(32, 64, kernel_size=3, padding=1)\n",
        "        self.fc1 = nn.Linear(8*8*64, 128)  # Adjust input size based on the output size of the last convolutional layer\n",
        "        self.dam = DenseAssociativeMemory(128, 100)  # Change output size to 100 for CIFAR-100\n",
        "\n",
        "    def forward(self, x):\n",
        "        x = self.pool(F.relu(self.conv1(x)))\n",
        "        x = self.pool(F.relu(self.conv2(x)))\n",
        "        x = x.view(x.size(0), -1)\n",
        "        x = F.relu(self.fc1(x))\n",
        "        x = self.dam(x)\n",
        "        return x"
      ],
      "metadata": {
        "id": "BHwyKsGXo_M5"
      },
      "execution_count": null,
      "outputs": []
    },
    {
      "cell_type": "code",
      "source": [
        "class FixedRotation(object):\n",
        "    def __init__(self, angle):\n",
        "        self.angle = angle\n",
        "\n",
        "    def __call__(self, img):\n",
        "        return transforms.functional.rotate(img, self.angle)\n",
        "\n",
        "# Usage:\n",
        "train_transform = transforms.Compose([\n",
        "    FixedRotation(30),\n",
        "    transforms.ToTensor(),\n",
        "])\n",
        "\n",
        "\n",
        "# Usage:\n",
        "test_transform = transforms.Compose([\n",
        "    FixedRotation(30),\n",
        "    transforms.ToTensor(),\n",
        "])"
      ],
      "metadata": {
        "id": "vIg3CaFWXKPt"
      },
      "execution_count": null,
      "outputs": []
    },
    {
      "cell_type": "code",
      "source": [
        "# Load CIFAR100 Data\n",
        "transform = transforms.Compose([\n",
        "    transforms.ToTensor(),\n",
        "    transforms.Normalize((0.1307,), (0.3081,))\n",
        "])\n",
        "\n",
        "train_dataset = datasets.CIFAR100('./data', train=True, download=True, transform=transform)\n",
        "test_dataset = datasets.CIFAR100('./data', train=False, transform=transform)\n",
        "\n",
        "train_loader = DataLoader(train_dataset, batch_size=64, shuffle=True)\n",
        "test_loader = DataLoader(test_dataset, batch_size=1000, shuffle=False)\n"
      ],
      "metadata": {
        "colab": {
          "base_uri": "https://localhost:8080/"
        },
        "id": "Wc6H3HrcXSXO",
        "outputId": "378ddc66-ca32-4723-b223-fde7d9a09120"
      },
      "execution_count": null,
      "outputs": [
        {
          "output_type": "stream",
          "name": "stdout",
          "text": [
            "Files already downloaded and verified\n"
          ]
        }
      ]
    },
    {
      "cell_type": "code",
      "source": [
        "# Instantiate the model\n",
        "model = CNNWithDenseAssociativeMemory()\n",
        "\n",
        "# Define loss function and optimizer\n",
        "criterion = nn.CrossEntropyLoss()\n",
        "optimizer = optim.Adam(model.parameters(), lr=0.001)"
      ],
      "metadata": {
        "id": "8p0bTanbXTeB"
      },
      "execution_count": null,
      "outputs": []
    },
    {
      "cell_type": "code",
      "source": [
        "# Training loop\n",
        "num_epochs = 10\n",
        "for epoch in range(num_epochs):\n",
        "    model.train()\n",
        "    for batch_idx, (data, target) in enumerate(train_loader):\n",
        "        optimizer.zero_grad()\n",
        "        output = model(data)\n",
        "        loss = criterion(output, target)\n",
        "        loss.backward()\n",
        "        optimizer.step()\n",
        "\n",
        "        if batch_idx % 100 == 0:\n",
        "            print(f'Train Epoch: {epoch} [{batch_idx * len(data)}/{len(train_loader.dataset)} ({100. * batch_idx / len(train_loader):.0f}%)]\\tLoss: {loss.item():.6f}')\n"
      ],
      "metadata": {
        "colab": {
          "base_uri": "https://localhost:8080/"
        },
        "id": "TRLYbwESXYED",
        "outputId": "3719b976-4b17-4b2e-b717-8daa591a3899"
      },
      "execution_count": null,
      "outputs": [
        {
          "output_type": "stream",
          "name": "stdout",
          "text": [
            "Train Epoch: 0 [0/50000 (0%)]\tLoss: 4.604351\n",
            "Train Epoch: 0 [6400/50000 (13%)]\tLoss: 4.209955\n",
            "Train Epoch: 0 [12800/50000 (26%)]\tLoss: 4.113739\n",
            "Train Epoch: 0 [19200/50000 (38%)]\tLoss: 4.117372\n",
            "Train Epoch: 0 [25600/50000 (51%)]\tLoss: 4.041877\n",
            "Train Epoch: 0 [32000/50000 (64%)]\tLoss: 3.886271\n",
            "Train Epoch: 0 [38400/50000 (77%)]\tLoss: 3.971279\n",
            "Train Epoch: 0 [44800/50000 (90%)]\tLoss: 3.827316\n",
            "Train Epoch: 1 [0/50000 (0%)]\tLoss: 3.718340\n",
            "Train Epoch: 1 [6400/50000 (13%)]\tLoss: 3.909308\n",
            "Train Epoch: 1 [12800/50000 (26%)]\tLoss: 3.902568\n",
            "Train Epoch: 1 [19200/50000 (38%)]\tLoss: 3.667528\n",
            "Train Epoch: 1 [25600/50000 (51%)]\tLoss: 3.738336\n",
            "Train Epoch: 1 [32000/50000 (64%)]\tLoss: 3.843747\n",
            "Train Epoch: 1 [38400/50000 (77%)]\tLoss: 3.736032\n",
            "Train Epoch: 1 [44800/50000 (90%)]\tLoss: 3.715808\n",
            "Train Epoch: 2 [0/50000 (0%)]\tLoss: 3.538136\n",
            "Train Epoch: 2 [6400/50000 (13%)]\tLoss: 3.706459\n",
            "Train Epoch: 2 [12800/50000 (26%)]\tLoss: 3.602615\n",
            "Train Epoch: 2 [19200/50000 (38%)]\tLoss: 3.558728\n",
            "Train Epoch: 2 [25600/50000 (51%)]\tLoss: 3.697752\n",
            "Train Epoch: 2 [32000/50000 (64%)]\tLoss: 3.628079\n",
            "Train Epoch: 2 [38400/50000 (77%)]\tLoss: 3.688551\n",
            "Train Epoch: 2 [44800/50000 (90%)]\tLoss: 3.728714\n",
            "Train Epoch: 3 [0/50000 (0%)]\tLoss: 3.566074\n",
            "Train Epoch: 3 [6400/50000 (13%)]\tLoss: 3.634748\n",
            "Train Epoch: 3 [12800/50000 (26%)]\tLoss: 3.674033\n",
            "Train Epoch: 3 [19200/50000 (38%)]\tLoss: 3.599779\n",
            "Train Epoch: 3 [25600/50000 (51%)]\tLoss: 3.416247\n",
            "Train Epoch: 3 [32000/50000 (64%)]\tLoss: 3.671191\n",
            "Train Epoch: 3 [38400/50000 (77%)]\tLoss: 3.767956\n",
            "Train Epoch: 3 [44800/50000 (90%)]\tLoss: 3.652832\n",
            "Train Epoch: 4 [0/50000 (0%)]\tLoss: 3.417472\n",
            "Train Epoch: 4 [6400/50000 (13%)]\tLoss: 3.493616\n",
            "Train Epoch: 4 [12800/50000 (26%)]\tLoss: 3.423372\n",
            "Train Epoch: 4 [19200/50000 (38%)]\tLoss: 3.548102\n",
            "Train Epoch: 4 [25600/50000 (51%)]\tLoss: 3.320129\n",
            "Train Epoch: 4 [32000/50000 (64%)]\tLoss: 3.361809\n",
            "Train Epoch: 4 [38400/50000 (77%)]\tLoss: 3.414157\n",
            "Train Epoch: 4 [44800/50000 (90%)]\tLoss: 3.449862\n",
            "Train Epoch: 5 [0/50000 (0%)]\tLoss: 3.433087\n",
            "Train Epoch: 5 [6400/50000 (13%)]\tLoss: 3.344828\n",
            "Train Epoch: 5 [12800/50000 (26%)]\tLoss: 3.714038\n",
            "Train Epoch: 5 [19200/50000 (38%)]\tLoss: 3.379434\n",
            "Train Epoch: 5 [25600/50000 (51%)]\tLoss: 3.492179\n",
            "Train Epoch: 5 [32000/50000 (64%)]\tLoss: 3.632221\n",
            "Train Epoch: 5 [38400/50000 (77%)]\tLoss: 3.377199\n",
            "Train Epoch: 5 [44800/50000 (90%)]\tLoss: 3.646932\n",
            "Train Epoch: 6 [0/50000 (0%)]\tLoss: 3.356240\n",
            "Train Epoch: 6 [6400/50000 (13%)]\tLoss: 3.377177\n",
            "Train Epoch: 6 [12800/50000 (26%)]\tLoss: 3.339311\n",
            "Train Epoch: 6 [19200/50000 (38%)]\tLoss: 3.547061\n",
            "Train Epoch: 6 [25600/50000 (51%)]\tLoss: 3.383800\n",
            "Train Epoch: 6 [32000/50000 (64%)]\tLoss: 3.467721\n",
            "Train Epoch: 6 [38400/50000 (77%)]\tLoss: 3.220561\n",
            "Train Epoch: 6 [44800/50000 (90%)]\tLoss: 3.476347\n",
            "Train Epoch: 7 [0/50000 (0%)]\tLoss: 3.366008\n",
            "Train Epoch: 7 [6400/50000 (13%)]\tLoss: 3.449106\n",
            "Train Epoch: 7 [12800/50000 (26%)]\tLoss: 3.464172\n",
            "Train Epoch: 7 [19200/50000 (38%)]\tLoss: 3.436213\n",
            "Train Epoch: 7 [25600/50000 (51%)]\tLoss: 3.432509\n",
            "Train Epoch: 7 [32000/50000 (64%)]\tLoss: 3.491436\n",
            "Train Epoch: 7 [38400/50000 (77%)]\tLoss: 3.414402\n",
            "Train Epoch: 7 [44800/50000 (90%)]\tLoss: 3.439822\n",
            "Train Epoch: 8 [0/50000 (0%)]\tLoss: 3.263660\n",
            "Train Epoch: 8 [6400/50000 (13%)]\tLoss: 3.302302\n",
            "Train Epoch: 8 [12800/50000 (26%)]\tLoss: 3.475218\n",
            "Train Epoch: 8 [19200/50000 (38%)]\tLoss: 3.331967\n",
            "Train Epoch: 8 [25600/50000 (51%)]\tLoss: 3.357901\n",
            "Train Epoch: 8 [32000/50000 (64%)]\tLoss: 3.317450\n",
            "Train Epoch: 8 [38400/50000 (77%)]\tLoss: 3.307505\n",
            "Train Epoch: 8 [44800/50000 (90%)]\tLoss: 3.492969\n",
            "Train Epoch: 9 [0/50000 (0%)]\tLoss: 3.157309\n",
            "Train Epoch: 9 [6400/50000 (13%)]\tLoss: 3.201360\n",
            "Train Epoch: 9 [12800/50000 (26%)]\tLoss: 3.271730\n",
            "Train Epoch: 9 [19200/50000 (38%)]\tLoss: 3.345363\n",
            "Train Epoch: 9 [25600/50000 (51%)]\tLoss: 3.332737\n",
            "Train Epoch: 9 [32000/50000 (64%)]\tLoss: 3.186812\n",
            "Train Epoch: 9 [38400/50000 (77%)]\tLoss: 3.285108\n",
            "Train Epoch: 9 [44800/50000 (90%)]\tLoss: 3.297307\n"
          ]
        }
      ]
    },
    {
      "cell_type": "code",
      "source": [
        "# Testing loop\n",
        "model.eval()\n",
        "test_loss = 0\n",
        "correct = 0\n",
        "with torch.no_grad():\n",
        "    for data, target in test_loader:\n",
        "        output = model(data)\n",
        "        test_loss += criterion(output, target).item()\n",
        "        pred = output.argmax(dim=1, keepdim=True)\n",
        "        correct += pred.eq(target.view_as(pred)).sum().item()\n",
        "\n",
        "test_loss /= len(test_loader.dataset)\n",
        "print(f'\\nTest set: Average loss: {test_loss:.4f}, Accuracy: {correct}/{len(test_loader.dataset)} ({100. * correct / len(test_loader.dataset):.0f}%)\\n')\n"
      ],
      "metadata": {
        "colab": {
          "base_uri": "https://localhost:8080/"
        },
        "id": "lTFDLe9AXb8C",
        "outputId": "04ac435a-4734-4ced-92c0-dff445de6dcc"
      },
      "execution_count": null,
      "outputs": [
        {
          "output_type": "stream",
          "name": "stdout",
          "text": [
            "\n",
            "Test set: Average loss: 0.0035, Accuracy: 2773/10000 (28%)\n",
            "\n"
          ]
        }
      ]
    },
    {
      "cell_type": "markdown",
      "source": [
        "Training for 50 epochs for CIFAR 100 datasets with 30 degree rotation each on training and testing."
      ],
      "metadata": {
        "id": "T3qjQMhiaNxZ"
      }
    },
    {
      "cell_type": "code",
      "source": [
        "# Training loop\n",
        "num_epochs = 50\n",
        "for epoch in range(num_epochs):\n",
        "    model.train()\n",
        "    for batch_idx, (data, target) in enumerate(train_loader):\n",
        "        optimizer.zero_grad()\n",
        "        output = model(data)\n",
        "        loss = criterion(output, target)\n",
        "        loss.backward()\n",
        "        optimizer.step()\n",
        "        if batch_idx % 100 == 0:\n",
        "            print(f'Train Epoch: {epoch} [{batch_idx * len(data)}/{len(train_loader.dataset)} ({100. * batch_idx / len(train_loader):.0f}%)]\\tLoss: {loss.item():.6f}')\n"
      ],
      "metadata": {
        "colab": {
          "base_uri": "https://localhost:8080/"
        },
        "id": "87UixjmraE4l",
        "outputId": "763e693b-5755-472d-ee54-d3c1a1ff50de"
      },
      "execution_count": null,
      "outputs": [
        {
          "output_type": "stream",
          "name": "stdout",
          "text": [
            "Train Epoch: 0 [0/50000 (0%)]\tLoss: 3.181729\n",
            "Train Epoch: 0 [6400/50000 (13%)]\tLoss: 3.309558\n",
            "Train Epoch: 0 [12800/50000 (26%)]\tLoss: 3.380634\n",
            "Train Epoch: 0 [19200/50000 (38%)]\tLoss: 3.220294\n",
            "Train Epoch: 0 [25600/50000 (51%)]\tLoss: 3.241906\n",
            "Train Epoch: 0 [32000/50000 (64%)]\tLoss: 3.265805\n",
            "Train Epoch: 0 [38400/50000 (77%)]\tLoss: 3.251747\n",
            "Train Epoch: 0 [44800/50000 (90%)]\tLoss: 3.333705\n",
            "Train Epoch: 1 [0/50000 (0%)]\tLoss: 3.262257\n",
            "Train Epoch: 1 [6400/50000 (13%)]\tLoss: 3.372011\n",
            "Train Epoch: 1 [12800/50000 (26%)]\tLoss: 3.488350\n",
            "Train Epoch: 1 [19200/50000 (38%)]\tLoss: 3.337765\n",
            "Train Epoch: 1 [25600/50000 (51%)]\tLoss: 3.290691\n",
            "Train Epoch: 1 [32000/50000 (64%)]\tLoss: 3.451259\n",
            "Train Epoch: 1 [38400/50000 (77%)]\tLoss: 3.294952\n",
            "Train Epoch: 1 [44800/50000 (90%)]\tLoss: 3.403489\n",
            "Train Epoch: 2 [0/50000 (0%)]\tLoss: 3.279730\n",
            "Train Epoch: 2 [6400/50000 (13%)]\tLoss: 3.407315\n",
            "Train Epoch: 2 [12800/50000 (26%)]\tLoss: 3.223144\n",
            "Train Epoch: 2 [19200/50000 (38%)]\tLoss: 3.298074\n",
            "Train Epoch: 2 [25600/50000 (51%)]\tLoss: 3.259177\n",
            "Train Epoch: 2 [32000/50000 (64%)]\tLoss: 3.352481\n",
            "Train Epoch: 2 [38400/50000 (77%)]\tLoss: 3.238777\n",
            "Train Epoch: 2 [44800/50000 (90%)]\tLoss: 3.244945\n",
            "Train Epoch: 3 [0/50000 (0%)]\tLoss: 3.333573\n",
            "Train Epoch: 3 [6400/50000 (13%)]\tLoss: 3.245183\n",
            "Train Epoch: 3 [12800/50000 (26%)]\tLoss: 3.217771\n",
            "Train Epoch: 3 [19200/50000 (38%)]\tLoss: 3.226853\n",
            "Train Epoch: 3 [25600/50000 (51%)]\tLoss: 3.230826\n",
            "Train Epoch: 3 [32000/50000 (64%)]\tLoss: 3.256717\n",
            "Train Epoch: 3 [38400/50000 (77%)]\tLoss: 3.183719\n",
            "Train Epoch: 3 [44800/50000 (90%)]\tLoss: 3.352432\n",
            "Train Epoch: 4 [0/50000 (0%)]\tLoss: 3.127536\n",
            "Train Epoch: 4 [6400/50000 (13%)]\tLoss: 3.141870\n",
            "Train Epoch: 4 [12800/50000 (26%)]\tLoss: 3.257812\n",
            "Train Epoch: 4 [19200/50000 (38%)]\tLoss: 3.483260\n",
            "Train Epoch: 4 [25600/50000 (51%)]\tLoss: 3.292359\n",
            "Train Epoch: 4 [32000/50000 (64%)]\tLoss: 3.090820\n",
            "Train Epoch: 4 [38400/50000 (77%)]\tLoss: 3.099661\n",
            "Train Epoch: 4 [44800/50000 (90%)]\tLoss: 3.394686\n",
            "Train Epoch: 5 [0/50000 (0%)]\tLoss: 3.137952\n",
            "Train Epoch: 5 [6400/50000 (13%)]\tLoss: 3.216058\n",
            "Train Epoch: 5 [12800/50000 (26%)]\tLoss: 3.158554\n",
            "Train Epoch: 5 [19200/50000 (38%)]\tLoss: 3.261665\n",
            "Train Epoch: 5 [25600/50000 (51%)]\tLoss: 3.265219\n",
            "Train Epoch: 5 [32000/50000 (64%)]\tLoss: 3.157207\n",
            "Train Epoch: 5 [38400/50000 (77%)]\tLoss: 3.169742\n",
            "Train Epoch: 5 [44800/50000 (90%)]\tLoss: 3.096522\n",
            "Train Epoch: 6 [0/50000 (0%)]\tLoss: 3.296582\n",
            "Train Epoch: 6 [6400/50000 (13%)]\tLoss: 3.307582\n",
            "Train Epoch: 6 [12800/50000 (26%)]\tLoss: 3.147544\n",
            "Train Epoch: 6 [19200/50000 (38%)]\tLoss: 3.191408\n",
            "Train Epoch: 6 [25600/50000 (51%)]\tLoss: 3.108729\n",
            "Train Epoch: 6 [32000/50000 (64%)]\tLoss: 3.323294\n",
            "Train Epoch: 6 [38400/50000 (77%)]\tLoss: 3.209764\n",
            "Train Epoch: 6 [44800/50000 (90%)]\tLoss: 3.164235\n",
            "Train Epoch: 7 [0/50000 (0%)]\tLoss: 3.038137\n",
            "Train Epoch: 7 [6400/50000 (13%)]\tLoss: 3.054004\n",
            "Train Epoch: 7 [12800/50000 (26%)]\tLoss: 3.068535\n",
            "Train Epoch: 7 [19200/50000 (38%)]\tLoss: 3.189669\n",
            "Train Epoch: 7 [25600/50000 (51%)]\tLoss: 3.263919\n",
            "Train Epoch: 7 [32000/50000 (64%)]\tLoss: 3.170398\n",
            "Train Epoch: 7 [38400/50000 (77%)]\tLoss: 3.079803\n",
            "Train Epoch: 7 [44800/50000 (90%)]\tLoss: 3.190471\n",
            "Train Epoch: 8 [0/50000 (0%)]\tLoss: 3.021855\n",
            "Train Epoch: 8 [6400/50000 (13%)]\tLoss: 3.155815\n",
            "Train Epoch: 8 [12800/50000 (26%)]\tLoss: 3.141826\n",
            "Train Epoch: 8 [19200/50000 (38%)]\tLoss: 3.168123\n",
            "Train Epoch: 8 [25600/50000 (51%)]\tLoss: 3.260369\n",
            "Train Epoch: 8 [32000/50000 (64%)]\tLoss: 3.240635\n",
            "Train Epoch: 8 [38400/50000 (77%)]\tLoss: 3.183581\n",
            "Train Epoch: 8 [44800/50000 (90%)]\tLoss: 3.216434\n",
            "Train Epoch: 9 [0/50000 (0%)]\tLoss: 3.091624\n",
            "Train Epoch: 9 [6400/50000 (13%)]\tLoss: 3.168546\n",
            "Train Epoch: 9 [12800/50000 (26%)]\tLoss: 3.150346\n",
            "Train Epoch: 9 [19200/50000 (38%)]\tLoss: 3.227807\n",
            "Train Epoch: 9 [25600/50000 (51%)]\tLoss: 3.089268\n",
            "Train Epoch: 9 [32000/50000 (64%)]\tLoss: 3.184567\n",
            "Train Epoch: 9 [38400/50000 (77%)]\tLoss: 3.215075\n",
            "Train Epoch: 9 [44800/50000 (90%)]\tLoss: 3.139850\n",
            "Train Epoch: 10 [0/50000 (0%)]\tLoss: 3.073077\n",
            "Train Epoch: 10 [6400/50000 (13%)]\tLoss: 3.212230\n",
            "Train Epoch: 10 [12800/50000 (26%)]\tLoss: 3.064608\n",
            "Train Epoch: 10 [19200/50000 (38%)]\tLoss: 3.183026\n",
            "Train Epoch: 10 [25600/50000 (51%)]\tLoss: 3.223721\n",
            "Train Epoch: 10 [32000/50000 (64%)]\tLoss: 3.161455\n",
            "Train Epoch: 10 [38400/50000 (77%)]\tLoss: 3.213000\n",
            "Train Epoch: 10 [44800/50000 (90%)]\tLoss: 3.239860\n",
            "Train Epoch: 11 [0/50000 (0%)]\tLoss: 3.227309\n",
            "Train Epoch: 11 [6400/50000 (13%)]\tLoss: 3.148583\n",
            "Train Epoch: 11 [12800/50000 (26%)]\tLoss: 3.352358\n",
            "Train Epoch: 11 [19200/50000 (38%)]\tLoss: 3.175730\n",
            "Train Epoch: 11 [25600/50000 (51%)]\tLoss: 3.121583\n",
            "Train Epoch: 11 [32000/50000 (64%)]\tLoss: 3.138588\n",
            "Train Epoch: 11 [38400/50000 (77%)]\tLoss: 3.124825\n",
            "Train Epoch: 11 [44800/50000 (90%)]\tLoss: 3.275441\n",
            "Train Epoch: 12 [0/50000 (0%)]\tLoss: 3.195842\n",
            "Train Epoch: 12 [6400/50000 (13%)]\tLoss: 3.105987\n",
            "Train Epoch: 12 [12800/50000 (26%)]\tLoss: 3.255928\n",
            "Train Epoch: 12 [19200/50000 (38%)]\tLoss: 3.107810\n",
            "Train Epoch: 12 [25600/50000 (51%)]\tLoss: 3.123680\n",
            "Train Epoch: 12 [32000/50000 (64%)]\tLoss: 3.079114\n",
            "Train Epoch: 12 [38400/50000 (77%)]\tLoss: 3.174605\n",
            "Train Epoch: 12 [44800/50000 (90%)]\tLoss: 3.079989\n",
            "Train Epoch: 13 [0/50000 (0%)]\tLoss: 3.067020\n",
            "Train Epoch: 13 [6400/50000 (13%)]\tLoss: 2.999458\n",
            "Train Epoch: 13 [12800/50000 (26%)]\tLoss: 3.202766\n",
            "Train Epoch: 13 [19200/50000 (38%)]\tLoss: 3.119148\n",
            "Train Epoch: 13 [25600/50000 (51%)]\tLoss: 3.073196\n",
            "Train Epoch: 13 [32000/50000 (64%)]\tLoss: 3.068626\n",
            "Train Epoch: 13 [38400/50000 (77%)]\tLoss: 3.164085\n",
            "Train Epoch: 13 [44800/50000 (90%)]\tLoss: 3.171243\n",
            "Train Epoch: 14 [0/50000 (0%)]\tLoss: 3.315456\n",
            "Train Epoch: 14 [6400/50000 (13%)]\tLoss: 3.022571\n",
            "Train Epoch: 14 [12800/50000 (26%)]\tLoss: 3.070606\n",
            "Train Epoch: 14 [19200/50000 (38%)]\tLoss: 3.155551\n",
            "Train Epoch: 14 [25600/50000 (51%)]\tLoss: 3.180235\n",
            "Train Epoch: 14 [32000/50000 (64%)]\tLoss: 3.116081\n",
            "Train Epoch: 14 [38400/50000 (77%)]\tLoss: 3.093228\n",
            "Train Epoch: 14 [44800/50000 (90%)]\tLoss: 3.072203\n",
            "Train Epoch: 15 [0/50000 (0%)]\tLoss: 3.042642\n",
            "Train Epoch: 15 [6400/50000 (13%)]\tLoss: 3.141876\n",
            "Train Epoch: 15 [12800/50000 (26%)]\tLoss: 3.123032\n",
            "Train Epoch: 15 [19200/50000 (38%)]\tLoss: 3.090200\n",
            "Train Epoch: 15 [25600/50000 (51%)]\tLoss: 3.104746\n",
            "Train Epoch: 15 [32000/50000 (64%)]\tLoss: 3.106429\n",
            "Train Epoch: 15 [38400/50000 (77%)]\tLoss: 2.988960\n",
            "Train Epoch: 15 [44800/50000 (90%)]\tLoss: 3.088408\n",
            "Train Epoch: 16 [0/50000 (0%)]\tLoss: 3.234016\n",
            "Train Epoch: 16 [6400/50000 (13%)]\tLoss: 3.175548\n",
            "Train Epoch: 16 [12800/50000 (26%)]\tLoss: 3.141881\n",
            "Train Epoch: 16 [19200/50000 (38%)]\tLoss: 3.171476\n",
            "Train Epoch: 16 [25600/50000 (51%)]\tLoss: 3.178552\n",
            "Train Epoch: 16 [32000/50000 (64%)]\tLoss: 3.201365\n",
            "Train Epoch: 16 [38400/50000 (77%)]\tLoss: 3.141463\n",
            "Train Epoch: 16 [44800/50000 (90%)]\tLoss: 3.232535\n",
            "Train Epoch: 17 [0/50000 (0%)]\tLoss: 3.275648\n",
            "Train Epoch: 17 [6400/50000 (13%)]\tLoss: 3.009644\n",
            "Train Epoch: 17 [12800/50000 (26%)]\tLoss: 3.195705\n",
            "Train Epoch: 17 [19200/50000 (38%)]\tLoss: 3.043414\n",
            "Train Epoch: 17 [25600/50000 (51%)]\tLoss: 3.136415\n",
            "Train Epoch: 17 [32000/50000 (64%)]\tLoss: 3.143561\n",
            "Train Epoch: 17 [38400/50000 (77%)]\tLoss: 3.245047\n",
            "Train Epoch: 17 [44800/50000 (90%)]\tLoss: 2.998305\n",
            "Train Epoch: 18 [0/50000 (0%)]\tLoss: 3.149435\n",
            "Train Epoch: 18 [6400/50000 (13%)]\tLoss: 3.187229\n",
            "Train Epoch: 18 [12800/50000 (26%)]\tLoss: 3.207191\n",
            "Train Epoch: 18 [19200/50000 (38%)]\tLoss: 3.204148\n",
            "Train Epoch: 18 [25600/50000 (51%)]\tLoss: 3.023109\n",
            "Train Epoch: 18 [32000/50000 (64%)]\tLoss: 3.137629\n",
            "Train Epoch: 18 [38400/50000 (77%)]\tLoss: 3.220943\n",
            "Train Epoch: 18 [44800/50000 (90%)]\tLoss: 3.253776\n",
            "Train Epoch: 19 [0/50000 (0%)]\tLoss: 3.268890\n",
            "Train Epoch: 19 [6400/50000 (13%)]\tLoss: 3.147165\n",
            "Train Epoch: 19 [12800/50000 (26%)]\tLoss: 3.222431\n",
            "Train Epoch: 19 [19200/50000 (38%)]\tLoss: 2.995724\n",
            "Train Epoch: 19 [25600/50000 (51%)]\tLoss: 3.075943\n",
            "Train Epoch: 19 [32000/50000 (64%)]\tLoss: 2.996796\n",
            "Train Epoch: 19 [38400/50000 (77%)]\tLoss: 3.111356\n",
            "Train Epoch: 19 [44800/50000 (90%)]\tLoss: 3.085098\n",
            "Train Epoch: 20 [0/50000 (0%)]\tLoss: 3.021934\n",
            "Train Epoch: 20 [6400/50000 (13%)]\tLoss: 3.170179\n",
            "Train Epoch: 20 [12800/50000 (26%)]\tLoss: 2.997171\n",
            "Train Epoch: 20 [19200/50000 (38%)]\tLoss: 3.198159\n",
            "Train Epoch: 20 [25600/50000 (51%)]\tLoss: 2.987782\n",
            "Train Epoch: 20 [32000/50000 (64%)]\tLoss: 3.172693\n",
            "Train Epoch: 20 [38400/50000 (77%)]\tLoss: 3.048911\n",
            "Train Epoch: 20 [44800/50000 (90%)]\tLoss: 3.154013\n",
            "Train Epoch: 21 [0/50000 (0%)]\tLoss: 3.142304\n",
            "Train Epoch: 21 [6400/50000 (13%)]\tLoss: 3.019178\n",
            "Train Epoch: 21 [12800/50000 (26%)]\tLoss: 3.148846\n",
            "Train Epoch: 21 [19200/50000 (38%)]\tLoss: 3.029391\n",
            "Train Epoch: 21 [25600/50000 (51%)]\tLoss: 3.093704\n",
            "Train Epoch: 21 [32000/50000 (64%)]\tLoss: 2.977497\n",
            "Train Epoch: 21 [38400/50000 (77%)]\tLoss: 3.238155\n",
            "Train Epoch: 21 [44800/50000 (90%)]\tLoss: 3.121623\n",
            "Train Epoch: 22 [0/50000 (0%)]\tLoss: 3.108579\n",
            "Train Epoch: 22 [6400/50000 (13%)]\tLoss: 3.176121\n",
            "Train Epoch: 22 [12800/50000 (26%)]\tLoss: 3.229482\n",
            "Train Epoch: 22 [19200/50000 (38%)]\tLoss: 3.265967\n",
            "Train Epoch: 22 [25600/50000 (51%)]\tLoss: 3.173088\n",
            "Train Epoch: 22 [32000/50000 (64%)]\tLoss: 3.189164\n",
            "Train Epoch: 22 [38400/50000 (77%)]\tLoss: 3.032214\n",
            "Train Epoch: 22 [44800/50000 (90%)]\tLoss: 3.019832\n",
            "Train Epoch: 23 [0/50000 (0%)]\tLoss: 2.966085\n",
            "Train Epoch: 23 [6400/50000 (13%)]\tLoss: 3.102556\n",
            "Train Epoch: 23 [12800/50000 (26%)]\tLoss: 3.110663\n",
            "Train Epoch: 23 [19200/50000 (38%)]\tLoss: 3.010265\n",
            "Train Epoch: 23 [25600/50000 (51%)]\tLoss: 3.106704\n",
            "Train Epoch: 23 [32000/50000 (64%)]\tLoss: 3.166689\n",
            "Train Epoch: 23 [38400/50000 (77%)]\tLoss: 3.182652\n",
            "Train Epoch: 23 [44800/50000 (90%)]\tLoss: 3.220652\n",
            "Train Epoch: 24 [0/50000 (0%)]\tLoss: 3.054997\n",
            "Train Epoch: 24 [6400/50000 (13%)]\tLoss: 3.165750\n",
            "Train Epoch: 24 [12800/50000 (26%)]\tLoss: 2.978646\n",
            "Train Epoch: 24 [19200/50000 (38%)]\tLoss: 3.155851\n",
            "Train Epoch: 24 [25600/50000 (51%)]\tLoss: 3.170132\n",
            "Train Epoch: 24 [32000/50000 (64%)]\tLoss: 3.166971\n",
            "Train Epoch: 24 [38400/50000 (77%)]\tLoss: 3.148252\n",
            "Train Epoch: 24 [44800/50000 (90%)]\tLoss: 3.137043\n",
            "Train Epoch: 25 [0/50000 (0%)]\tLoss: 3.060833\n",
            "Train Epoch: 25 [6400/50000 (13%)]\tLoss: 3.054066\n",
            "Train Epoch: 25 [12800/50000 (26%)]\tLoss: 3.021346\n",
            "Train Epoch: 25 [19200/50000 (38%)]\tLoss: 3.176781\n",
            "Train Epoch: 25 [25600/50000 (51%)]\tLoss: 3.215599\n",
            "Train Epoch: 25 [32000/50000 (64%)]\tLoss: 3.248354\n",
            "Train Epoch: 25 [38400/50000 (77%)]\tLoss: 3.137683\n",
            "Train Epoch: 25 [44800/50000 (90%)]\tLoss: 3.226706\n",
            "Train Epoch: 26 [0/50000 (0%)]\tLoss: 3.067225\n",
            "Train Epoch: 26 [6400/50000 (13%)]\tLoss: 3.084694\n",
            "Train Epoch: 26 [12800/50000 (26%)]\tLoss: 2.973468\n",
            "Train Epoch: 26 [19200/50000 (38%)]\tLoss: 3.084648\n",
            "Train Epoch: 26 [25600/50000 (51%)]\tLoss: 3.083872\n",
            "Train Epoch: 26 [32000/50000 (64%)]\tLoss: 3.108268\n",
            "Train Epoch: 26 [38400/50000 (77%)]\tLoss: 3.146011\n",
            "Train Epoch: 26 [44800/50000 (90%)]\tLoss: 3.192812\n",
            "Train Epoch: 27 [0/50000 (0%)]\tLoss: 3.244601\n",
            "Train Epoch: 27 [6400/50000 (13%)]\tLoss: 3.165400\n",
            "Train Epoch: 27 [12800/50000 (26%)]\tLoss: 3.293882\n",
            "Train Epoch: 27 [19200/50000 (38%)]\tLoss: 2.942177\n",
            "Train Epoch: 27 [25600/50000 (51%)]\tLoss: 3.016717\n",
            "Train Epoch: 27 [32000/50000 (64%)]\tLoss: 3.133395\n",
            "Train Epoch: 27 [38400/50000 (77%)]\tLoss: 3.128012\n",
            "Train Epoch: 27 [44800/50000 (90%)]\tLoss: 3.127490\n",
            "Train Epoch: 28 [0/50000 (0%)]\tLoss: 2.975580\n",
            "Train Epoch: 28 [6400/50000 (13%)]\tLoss: 3.125750\n",
            "Train Epoch: 28 [12800/50000 (26%)]\tLoss: 3.093976\n",
            "Train Epoch: 28 [19200/50000 (38%)]\tLoss: 3.153491\n",
            "Train Epoch: 28 [25600/50000 (51%)]\tLoss: 3.095869\n",
            "Train Epoch: 28 [32000/50000 (64%)]\tLoss: 2.960911\n",
            "Train Epoch: 28 [38400/50000 (77%)]\tLoss: 3.032133\n",
            "Train Epoch: 28 [44800/50000 (90%)]\tLoss: 3.137636\n",
            "Train Epoch: 29 [0/50000 (0%)]\tLoss: 3.114442\n",
            "Train Epoch: 29 [6400/50000 (13%)]\tLoss: 3.053500\n",
            "Train Epoch: 29 [12800/50000 (26%)]\tLoss: 3.146726\n",
            "Train Epoch: 29 [19200/50000 (38%)]\tLoss: 3.096890\n",
            "Train Epoch: 29 [25600/50000 (51%)]\tLoss: 3.145693\n",
            "Train Epoch: 29 [32000/50000 (64%)]\tLoss: 3.159228\n",
            "Train Epoch: 29 [38400/50000 (77%)]\tLoss: 3.164412\n",
            "Train Epoch: 29 [44800/50000 (90%)]\tLoss: 3.246007\n",
            "Train Epoch: 30 [0/50000 (0%)]\tLoss: 3.176615\n",
            "Train Epoch: 30 [6400/50000 (13%)]\tLoss: 3.202271\n",
            "Train Epoch: 30 [12800/50000 (26%)]\tLoss: 3.042060\n",
            "Train Epoch: 30 [19200/50000 (38%)]\tLoss: 3.055805\n",
            "Train Epoch: 30 [25600/50000 (51%)]\tLoss: 3.050425\n",
            "Train Epoch: 30 [32000/50000 (64%)]\tLoss: 3.185783\n",
            "Train Epoch: 30 [38400/50000 (77%)]\tLoss: 3.016562\n",
            "Train Epoch: 30 [44800/50000 (90%)]\tLoss: 3.066115\n",
            "Train Epoch: 31 [0/50000 (0%)]\tLoss: 3.083096\n",
            "Train Epoch: 31 [6400/50000 (13%)]\tLoss: 3.172015\n",
            "Train Epoch: 31 [12800/50000 (26%)]\tLoss: 3.134801\n",
            "Train Epoch: 31 [19200/50000 (38%)]\tLoss: 3.141825\n",
            "Train Epoch: 31 [25600/50000 (51%)]\tLoss: 3.007952\n",
            "Train Epoch: 31 [32000/50000 (64%)]\tLoss: 3.105653\n",
            "Train Epoch: 31 [38400/50000 (77%)]\tLoss: 2.993548\n",
            "Train Epoch: 31 [44800/50000 (90%)]\tLoss: 3.141694\n",
            "Train Epoch: 32 [0/50000 (0%)]\tLoss: 3.209853\n",
            "Train Epoch: 32 [6400/50000 (13%)]\tLoss: 3.209522\n",
            "Train Epoch: 32 [12800/50000 (26%)]\tLoss: 3.061503\n",
            "Train Epoch: 32 [19200/50000 (38%)]\tLoss: 3.056131\n",
            "Train Epoch: 32 [25600/50000 (51%)]\tLoss: 3.202394\n",
            "Train Epoch: 32 [32000/50000 (64%)]\tLoss: 3.202227\n",
            "Train Epoch: 32 [38400/50000 (77%)]\tLoss: 2.976713\n",
            "Train Epoch: 32 [44800/50000 (90%)]\tLoss: 3.137955\n",
            "Train Epoch: 33 [0/50000 (0%)]\tLoss: 3.042758\n",
            "Train Epoch: 33 [6400/50000 (13%)]\tLoss: 3.032886\n",
            "Train Epoch: 33 [12800/50000 (26%)]\tLoss: 3.057764\n",
            "Train Epoch: 33 [19200/50000 (38%)]\tLoss: 3.070859\n",
            "Train Epoch: 33 [25600/50000 (51%)]\tLoss: 3.106627\n",
            "Train Epoch: 33 [32000/50000 (64%)]\tLoss: 3.081547\n",
            "Train Epoch: 33 [38400/50000 (77%)]\tLoss: 3.167308\n",
            "Train Epoch: 33 [44800/50000 (90%)]\tLoss: 3.164525\n",
            "Train Epoch: 34 [0/50000 (0%)]\tLoss: 3.247993\n",
            "Train Epoch: 34 [6400/50000 (13%)]\tLoss: 3.153345\n",
            "Train Epoch: 34 [12800/50000 (26%)]\tLoss: 3.224038\n",
            "Train Epoch: 34 [19200/50000 (38%)]\tLoss: 3.043164\n",
            "Train Epoch: 34 [25600/50000 (51%)]\tLoss: 3.082947\n",
            "Train Epoch: 34 [32000/50000 (64%)]\tLoss: 3.224314\n",
            "Train Epoch: 34 [38400/50000 (77%)]\tLoss: 3.135977\n",
            "Train Epoch: 34 [44800/50000 (90%)]\tLoss: 3.259824\n",
            "Train Epoch: 35 [0/50000 (0%)]\tLoss: 3.007147\n",
            "Train Epoch: 35 [6400/50000 (13%)]\tLoss: 3.031778\n",
            "Train Epoch: 35 [12800/50000 (26%)]\tLoss: 3.080490\n",
            "Train Epoch: 35 [19200/50000 (38%)]\tLoss: 3.031204\n",
            "Train Epoch: 35 [25600/50000 (51%)]\tLoss: 3.143258\n",
            "Train Epoch: 35 [32000/50000 (64%)]\tLoss: 3.015559\n",
            "Train Epoch: 35 [38400/50000 (77%)]\tLoss: 3.280966\n",
            "Train Epoch: 35 [44800/50000 (90%)]\tLoss: 3.041251\n",
            "Train Epoch: 36 [0/50000 (0%)]\tLoss: 3.124134\n",
            "Train Epoch: 36 [6400/50000 (13%)]\tLoss: 3.030206\n",
            "Train Epoch: 36 [12800/50000 (26%)]\tLoss: 3.203077\n",
            "Train Epoch: 36 [19200/50000 (38%)]\tLoss: 3.138234\n",
            "Train Epoch: 36 [25600/50000 (51%)]\tLoss: 3.030626\n",
            "Train Epoch: 36 [32000/50000 (64%)]\tLoss: 3.283076\n",
            "Train Epoch: 36 [38400/50000 (77%)]\tLoss: 3.143814\n",
            "Train Epoch: 36 [44800/50000 (90%)]\tLoss: 3.186910\n",
            "Train Epoch: 37 [0/50000 (0%)]\tLoss: 3.222478\n",
            "Train Epoch: 37 [6400/50000 (13%)]\tLoss: 3.032558\n",
            "Train Epoch: 37 [12800/50000 (26%)]\tLoss: 3.081133\n",
            "Train Epoch: 37 [19200/50000 (38%)]\tLoss: 3.062719\n",
            "Train Epoch: 37 [25600/50000 (51%)]\tLoss: 3.003990\n",
            "Train Epoch: 37 [32000/50000 (64%)]\tLoss: 3.155753\n",
            "Train Epoch: 37 [38400/50000 (77%)]\tLoss: 3.022070\n",
            "Train Epoch: 37 [44800/50000 (90%)]\tLoss: 3.122270\n",
            "Train Epoch: 38 [0/50000 (0%)]\tLoss: 3.018719\n",
            "Train Epoch: 38 [6400/50000 (13%)]\tLoss: 3.170076\n",
            "Train Epoch: 38 [12800/50000 (26%)]\tLoss: 3.101768\n",
            "Train Epoch: 38 [19200/50000 (38%)]\tLoss: 3.121213\n",
            "Train Epoch: 38 [25600/50000 (51%)]\tLoss: 3.059135\n",
            "Train Epoch: 38 [32000/50000 (64%)]\tLoss: 3.061287\n",
            "Train Epoch: 38 [38400/50000 (77%)]\tLoss: 3.056088\n",
            "Train Epoch: 38 [44800/50000 (90%)]\tLoss: 3.178508\n",
            "Train Epoch: 39 [0/50000 (0%)]\tLoss: 3.010831\n",
            "Train Epoch: 39 [6400/50000 (13%)]\tLoss: 3.179320\n",
            "Train Epoch: 39 [12800/50000 (26%)]\tLoss: 3.049661\n",
            "Train Epoch: 39 [19200/50000 (38%)]\tLoss: 3.168429\n",
            "Train Epoch: 39 [25600/50000 (51%)]\tLoss: 3.068159\n",
            "Train Epoch: 39 [32000/50000 (64%)]\tLoss: 3.116732\n",
            "Train Epoch: 39 [38400/50000 (77%)]\tLoss: 3.064044\n",
            "Train Epoch: 39 [44800/50000 (90%)]\tLoss: 3.035022\n",
            "Train Epoch: 40 [0/50000 (0%)]\tLoss: 3.120202\n",
            "Train Epoch: 40 [6400/50000 (13%)]\tLoss: 3.196489\n",
            "Train Epoch: 40 [12800/50000 (26%)]\tLoss: 3.020077\n",
            "Train Epoch: 40 [19200/50000 (38%)]\tLoss: 3.128509\n",
            "Train Epoch: 40 [25600/50000 (51%)]\tLoss: 3.271804\n",
            "Train Epoch: 40 [32000/50000 (64%)]\tLoss: 3.075482\n",
            "Train Epoch: 40 [38400/50000 (77%)]\tLoss: 3.066258\n",
            "Train Epoch: 40 [44800/50000 (90%)]\tLoss: 3.217441\n",
            "Train Epoch: 41 [0/50000 (0%)]\tLoss: 3.137369\n",
            "Train Epoch: 41 [6400/50000 (13%)]\tLoss: 3.187792\n",
            "Train Epoch: 41 [12800/50000 (26%)]\tLoss: 3.155326\n",
            "Train Epoch: 41 [19200/50000 (38%)]\tLoss: 3.079453\n",
            "Train Epoch: 41 [25600/50000 (51%)]\tLoss: 3.070827\n",
            "Train Epoch: 41 [32000/50000 (64%)]\tLoss: 3.155059\n",
            "Train Epoch: 41 [38400/50000 (77%)]\tLoss: 3.074252\n",
            "Train Epoch: 41 [44800/50000 (90%)]\tLoss: 3.027254\n",
            "Train Epoch: 42 [0/50000 (0%)]\tLoss: 3.249979\n",
            "Train Epoch: 42 [6400/50000 (13%)]\tLoss: 3.224517\n",
            "Train Epoch: 42 [12800/50000 (26%)]\tLoss: 3.155119\n",
            "Train Epoch: 42 [19200/50000 (38%)]\tLoss: 3.050689\n",
            "Train Epoch: 42 [25600/50000 (51%)]\tLoss: 3.187233\n",
            "Train Epoch: 42 [32000/50000 (64%)]\tLoss: 3.101132\n",
            "Train Epoch: 42 [38400/50000 (77%)]\tLoss: 3.118510\n",
            "Train Epoch: 42 [44800/50000 (90%)]\tLoss: 3.100310\n",
            "Train Epoch: 43 [0/50000 (0%)]\tLoss: 3.155241\n",
            "Train Epoch: 43 [6400/50000 (13%)]\tLoss: 3.066505\n",
            "Train Epoch: 43 [12800/50000 (26%)]\tLoss: 3.105861\n",
            "Train Epoch: 43 [19200/50000 (38%)]\tLoss: 2.982946\n",
            "Train Epoch: 43 [25600/50000 (51%)]\tLoss: 3.036517\n",
            "Train Epoch: 43 [32000/50000 (64%)]\tLoss: 3.239451\n",
            "Train Epoch: 43 [38400/50000 (77%)]\tLoss: 3.187634\n",
            "Train Epoch: 43 [44800/50000 (90%)]\tLoss: 3.063519\n",
            "Train Epoch: 44 [0/50000 (0%)]\tLoss: 3.060887\n",
            "Train Epoch: 44 [6400/50000 (13%)]\tLoss: 3.139311\n",
            "Train Epoch: 44 [12800/50000 (26%)]\tLoss: 3.179414\n",
            "Train Epoch: 44 [19200/50000 (38%)]\tLoss: 3.006269\n",
            "Train Epoch: 44 [25600/50000 (51%)]\tLoss: 3.094530\n",
            "Train Epoch: 44 [32000/50000 (64%)]\tLoss: 3.101929\n",
            "Train Epoch: 44 [38400/50000 (77%)]\tLoss: 3.074232\n",
            "Train Epoch: 44 [44800/50000 (90%)]\tLoss: 3.069405\n",
            "Train Epoch: 45 [0/50000 (0%)]\tLoss: 3.080130\n",
            "Train Epoch: 45 [6400/50000 (13%)]\tLoss: 3.166555\n",
            "Train Epoch: 45 [12800/50000 (26%)]\tLoss: 3.066823\n",
            "Train Epoch: 45 [19200/50000 (38%)]\tLoss: 3.118656\n",
            "Train Epoch: 45 [25600/50000 (51%)]\tLoss: 3.278186\n",
            "Train Epoch: 45 [32000/50000 (64%)]\tLoss: 3.303633\n",
            "Train Epoch: 45 [38400/50000 (77%)]\tLoss: 3.204069\n",
            "Train Epoch: 45 [44800/50000 (90%)]\tLoss: 3.129241\n",
            "Train Epoch: 46 [0/50000 (0%)]\tLoss: 3.058329\n",
            "Train Epoch: 46 [6400/50000 (13%)]\tLoss: 3.180658\n",
            "Train Epoch: 46 [12800/50000 (26%)]\tLoss: 2.950613\n",
            "Train Epoch: 46 [19200/50000 (38%)]\tLoss: 3.164461\n",
            "Train Epoch: 46 [25600/50000 (51%)]\tLoss: 3.048033\n",
            "Train Epoch: 46 [32000/50000 (64%)]\tLoss: 3.021983\n",
            "Train Epoch: 46 [38400/50000 (77%)]\tLoss: 3.067802\n",
            "Train Epoch: 46 [44800/50000 (90%)]\tLoss: 3.011075\n",
            "Train Epoch: 47 [0/50000 (0%)]\tLoss: 3.076699\n",
            "Train Epoch: 47 [6400/50000 (13%)]\tLoss: 3.254957\n",
            "Train Epoch: 47 [12800/50000 (26%)]\tLoss: 3.062275\n",
            "Train Epoch: 47 [19200/50000 (38%)]\tLoss: 2.991274\n",
            "Train Epoch: 47 [25600/50000 (51%)]\tLoss: 3.179051\n",
            "Train Epoch: 47 [32000/50000 (64%)]\tLoss: 3.085952\n",
            "Train Epoch: 47 [38400/50000 (77%)]\tLoss: 3.190785\n",
            "Train Epoch: 47 [44800/50000 (90%)]\tLoss: 3.160502\n",
            "Train Epoch: 48 [0/50000 (0%)]\tLoss: 3.119115\n",
            "Train Epoch: 48 [6400/50000 (13%)]\tLoss: 3.117868\n",
            "Train Epoch: 48 [12800/50000 (26%)]\tLoss: 3.274455\n",
            "Train Epoch: 48 [19200/50000 (38%)]\tLoss: 2.997100\n",
            "Train Epoch: 48 [25600/50000 (51%)]\tLoss: 3.237850\n",
            "Train Epoch: 48 [32000/50000 (64%)]\tLoss: 3.135187\n",
            "Train Epoch: 48 [38400/50000 (77%)]\tLoss: 3.036479\n",
            "Train Epoch: 48 [44800/50000 (90%)]\tLoss: 3.037589\n",
            "Train Epoch: 49 [0/50000 (0%)]\tLoss: 3.176436\n",
            "Train Epoch: 49 [6400/50000 (13%)]\tLoss: 3.062082\n",
            "Train Epoch: 49 [12800/50000 (26%)]\tLoss: 3.022802\n",
            "Train Epoch: 49 [19200/50000 (38%)]\tLoss: 3.154628\n",
            "Train Epoch: 49 [25600/50000 (51%)]\tLoss: 3.105981\n",
            "Train Epoch: 49 [32000/50000 (64%)]\tLoss: 3.023699\n",
            "Train Epoch: 49 [38400/50000 (77%)]\tLoss: 3.123662\n",
            "Train Epoch: 49 [44800/50000 (90%)]\tLoss: 3.025763\n"
          ]
        }
      ]
    },
    {
      "cell_type": "code",
      "source": [
        "# Testing loop\n",
        "model.eval()\n",
        "test_loss = 0\n",
        "correct = 0\n",
        "with torch.no_grad():\n",
        "    for data, target in test_loader:\n",
        "        output = model(data)\n",
        "        test_loss += criterion(output, target).item()\n",
        "        pred = output.argmax(dim=1, keepdim=True)\n",
        "        correct += pred.eq(target.view_as(pred)).sum().item()\n",
        "\n",
        "test_loss /= len(test_loader.dataset)\n",
        "print(f'\\nTest set: Average loss: {test_loss:.4f}, Accuracy: {correct}/{len(test_loader.dataset)} ({100. * correct / len(test_loader.dataset):.0f}%)\\n')\n"
      ],
      "metadata": {
        "colab": {
          "base_uri": "https://localhost:8080/"
        },
        "id": "EmkmQuVqafqv",
        "outputId": "9893d3ea-6ca6-4dfd-f547-3dd1a4891f05"
      },
      "execution_count": null,
      "outputs": [
        {
          "output_type": "stream",
          "name": "stdout",
          "text": [
            "\n",
            "Test set: Average loss: 0.0036, Accuracy: 2056/10000 (21%)\n",
            "\n"
          ]
        }
      ]
    },
    {
      "cell_type": "markdown",
      "source": [
        "Date: Dec 5, 2023, after meeting with the professor:\n",
        "\n",
        "*   List item\n",
        "*   List item\n",
        "\n"
      ],
      "metadata": {
        "id": "0n6PVOhj5SeG"
      }
    },
    {
      "cell_type": "markdown",
      "source": [
        "DAM-CNN with epoch 20 on normal orientation CIFAR100\n",
        "\n",
        "---\n",
        "\n",
        "**bold text**"
      ],
      "metadata": {
        "id": "1mQybkFI5a_G"
      }
    },
    {
      "cell_type": "code",
      "source": [
        "import torch\n",
        "import torch.nn as nn\n",
        "import torch.nn.functional as F\n",
        "import torch.optim as optim\n",
        "from torchvision import datasets, transforms\n",
        "from torch.utils.data import DataLoader\n",
        "\n",
        "# Define the Dense Associative Memory Layer\n",
        "class DenseAssociativeMemory(nn.Module):\n",
        "    def __init__(self, input_size, output_size):\n",
        "        super(DenseAssociativeMemory, self).__init__()\n",
        "        self.weights = nn.Parameter(torch.randn(input_size + output_size, input_size + output_size) * 0.01)\n",
        "\n",
        "    def forward(self, x):\n",
        "        # Extend input with zeros for classification neurons\n",
        "        extended_x = F.pad(x, (0, 100), \"constant\", 0)\n",
        "        # Calculate associative completion\n",
        "        output = torch.tanh(F.linear(extended_x, self.weights))\n",
        "        # Return only the classification part\n",
        "        return output[:, -100:]\n",
        "\n",
        "# Define CNN Architecture with Dense Associative Memory\n",
        "class CNNWithDenseAssociativeMemory(nn.Module):\n",
        "    def __init__(self):\n",
        "        super(CNNWithDenseAssociativeMemory, self).__init__()\n",
        "        self.conv1 = nn.Conv2d(3, 32, kernel_size=3, padding=1)  # Change input channels to 3\n",
        "        self.pool = nn.MaxPool2d(2, 2)\n",
        "        self.conv2 = nn.Conv2d(32, 64, kernel_size=3, padding=1)\n",
        "        self.fc1 = nn.Linear(8*8*64, 128)  # Adjust input size based on the output size of the last convolutional layer\n",
        "        self.dam = DenseAssociativeMemory(128, 100)  # Change output size to 100 for CIFAR-100\n",
        "\n",
        "    def forward(self, x):\n",
        "        x = self.pool(F.relu(self.conv1(x)))\n",
        "        x = self.pool(F.relu(self.conv2(x)))\n",
        "        x = x.view(x.size(0), -1)\n",
        "        x = F.relu(self.fc1(x))\n",
        "        x = self.dam(x)\n",
        "        return x"
      ],
      "metadata": {
        "id": "GaL8a9hznWES"
      },
      "execution_count": 2,
      "outputs": []
    },
    {
      "cell_type": "code",
      "source": [
        "# Load CIFAR100 Data\n",
        "transform = transforms.Compose([\n",
        "    transforms.ToTensor(),\n",
        "    transforms.Normalize((0.1307,), (0.3081,))\n",
        "])\n",
        "\n",
        "train_dataset = datasets.CIFAR100('./data', train=True, download=True, transform=transform)\n",
        "test_dataset = datasets.CIFAR100('./data', train=False, transform=transform)\n",
        "\n",
        "train_loader = DataLoader(train_dataset, batch_size=64, shuffle=True)\n",
        "test_loader = DataLoader(test_dataset, batch_size=1000, shuffle=False)\n"
      ],
      "metadata": {
        "colab": {
          "base_uri": "https://localhost:8080/"
        },
        "id": "Gc8q8bk558gF",
        "outputId": "096a2f90-e2d5-403f-a7fd-f42f0b2a46ec"
      },
      "execution_count": 3,
      "outputs": [
        {
          "output_type": "stream",
          "name": "stdout",
          "text": [
            "Downloading https://www.cs.toronto.edu/~kriz/cifar-100-python.tar.gz to ./data/cifar-100-python.tar.gz\n"
          ]
        },
        {
          "output_type": "stream",
          "name": "stderr",
          "text": [
            "100%|██████████| 169001437/169001437 [00:13<00:00, 12969055.28it/s]\n"
          ]
        },
        {
          "output_type": "stream",
          "name": "stdout",
          "text": [
            "Extracting ./data/cifar-100-python.tar.gz to ./data\n"
          ]
        }
      ]
    },
    {
      "cell_type": "code",
      "source": [
        "# Instantiate the model\n",
        "model = CNNWithDenseAssociativeMemory()\n",
        "\n",
        "# Define loss function and optimizer\n",
        "criterion = nn.CrossEntropyLoss()\n",
        "optimizer = optim.Adam(model.parameters(), lr=0.001)"
      ],
      "metadata": {
        "id": "ZmoAqt1H6FSX"
      },
      "execution_count": 4,
      "outputs": []
    },
    {
      "cell_type": "code",
      "source": [
        "num_epochs = 20\n",
        "train_losses = []\n",
        "train_accuracies = []\n",
        "for epoch in range(num_epochs):\n",
        "    model.train()\n",
        "\n",
        "    total_correct = 0\n",
        "    total_samples = 0\n",
        "\n",
        "    for batch_idx, (data, target) in enumerate(train_loader):\n",
        "        optimizer.zero_grad()\n",
        "        output = model(data)\n",
        "        loss = criterion(output, target)\n",
        "        loss.backward()\n",
        "        optimizer.step()\n",
        "\n",
        "        # Compute training accuracy\n",
        "        _, predicted = output.max(1)\n",
        "        total_correct += (predicted == target).sum().item()\n",
        "        total_samples += target.size(0)\n",
        "\n",
        "        if batch_idx % 100 == 0:\n",
        "            print(f'Train Epoch: {epoch} [{batch_idx * len(data)}/{len(train_loader.dataset)} ({100. * batch_idx / len(train_loader):.0f}%)]\\tLoss: {loss.item():.6f}')\n",
        "\n",
        "    # Calculate and print training accuracy at the end of each epoch\n",
        "    train_accuracy = 100. * total_correct / total_samples\n",
        "    print(f'Training Accuracy for Epoch {epoch}: {train_accuracy:.2f}%')\n",
        "    train_losses.append(loss.item())\n",
        "    train_accuracies.append(train_accuracy)"
      ],
      "metadata": {
        "colab": {
          "base_uri": "https://localhost:8080/"
        },
        "id": "skVGiD3H53UV",
        "outputId": "dbee2ed5-1a35-46a2-912c-21db96bace5e"
      },
      "execution_count": 5,
      "outputs": [
        {
          "output_type": "stream",
          "name": "stdout",
          "text": [
            "Train Epoch: 0 [0/50000 (0%)]\tLoss: 4.604334\n",
            "Train Epoch: 0 [6400/50000 (13%)]\tLoss: 4.309896\n",
            "Train Epoch: 0 [12800/50000 (26%)]\tLoss: 4.100391\n",
            "Train Epoch: 0 [19200/50000 (38%)]\tLoss: 4.024081\n",
            "Train Epoch: 0 [25600/50000 (51%)]\tLoss: 3.981458\n",
            "Train Epoch: 0 [32000/50000 (64%)]\tLoss: 3.980968\n",
            "Train Epoch: 0 [38400/50000 (77%)]\tLoss: 3.930875\n",
            "Train Epoch: 0 [44800/50000 (90%)]\tLoss: 3.715392\n",
            "Training Accuracy for Epoch 0: 9.69%\n",
            "Train Epoch: 1 [0/50000 (0%)]\tLoss: 4.047298\n",
            "Train Epoch: 1 [6400/50000 (13%)]\tLoss: 3.932428\n",
            "Train Epoch: 1 [12800/50000 (26%)]\tLoss: 3.703015\n",
            "Train Epoch: 1 [19200/50000 (38%)]\tLoss: 3.787023\n",
            "Train Epoch: 1 [25600/50000 (51%)]\tLoss: 4.013765\n",
            "Train Epoch: 1 [32000/50000 (64%)]\tLoss: 3.541305\n",
            "Train Epoch: 1 [38400/50000 (77%)]\tLoss: 3.607132\n",
            "Train Epoch: 1 [44800/50000 (90%)]\tLoss: 3.753819\n",
            "Training Accuracy for Epoch 1: 17.09%\n",
            "Train Epoch: 2 [0/50000 (0%)]\tLoss: 3.581058\n",
            "Train Epoch: 2 [6400/50000 (13%)]\tLoss: 3.608292\n",
            "Train Epoch: 2 [12800/50000 (26%)]\tLoss: 3.778317\n",
            "Train Epoch: 2 [19200/50000 (38%)]\tLoss: 3.634317\n",
            "Train Epoch: 2 [25600/50000 (51%)]\tLoss: 3.642213\n",
            "Train Epoch: 2 [32000/50000 (64%)]\tLoss: 3.494159\n",
            "Train Epoch: 2 [38400/50000 (77%)]\tLoss: 3.590193\n",
            "Train Epoch: 2 [44800/50000 (90%)]\tLoss: 3.745195\n",
            "Training Accuracy for Epoch 2: 21.01%\n",
            "Train Epoch: 3 [0/50000 (0%)]\tLoss: 3.575410\n",
            "Train Epoch: 3 [6400/50000 (13%)]\tLoss: 3.510290\n",
            "Train Epoch: 3 [12800/50000 (26%)]\tLoss: 3.329323\n",
            "Train Epoch: 3 [19200/50000 (38%)]\tLoss: 3.703830\n",
            "Train Epoch: 3 [25600/50000 (51%)]\tLoss: 3.553339\n",
            "Train Epoch: 3 [32000/50000 (64%)]\tLoss: 3.479236\n",
            "Train Epoch: 3 [38400/50000 (77%)]\tLoss: 3.619469\n",
            "Train Epoch: 3 [44800/50000 (90%)]\tLoss: 3.509253\n",
            "Training Accuracy for Epoch 3: 23.59%\n",
            "Train Epoch: 4 [0/50000 (0%)]\tLoss: 3.519255\n",
            "Train Epoch: 4 [6400/50000 (13%)]\tLoss: 3.477200\n",
            "Train Epoch: 4 [12800/50000 (26%)]\tLoss: 3.660472\n",
            "Train Epoch: 4 [19200/50000 (38%)]\tLoss: 3.551003\n",
            "Train Epoch: 4 [25600/50000 (51%)]\tLoss: 3.546210\n",
            "Train Epoch: 4 [32000/50000 (64%)]\tLoss: 3.556755\n",
            "Train Epoch: 4 [38400/50000 (77%)]\tLoss: 3.646401\n",
            "Train Epoch: 4 [44800/50000 (90%)]\tLoss: 3.546217\n",
            "Training Accuracy for Epoch 4: 25.63%\n",
            "Train Epoch: 5 [0/50000 (0%)]\tLoss: 3.621044\n",
            "Train Epoch: 5 [6400/50000 (13%)]\tLoss: 3.391402\n",
            "Train Epoch: 5 [12800/50000 (26%)]\tLoss: 3.325224\n",
            "Train Epoch: 5 [19200/50000 (38%)]\tLoss: 3.335506\n",
            "Train Epoch: 5 [25600/50000 (51%)]\tLoss: 3.376441\n",
            "Train Epoch: 5 [32000/50000 (64%)]\tLoss: 3.345275\n",
            "Train Epoch: 5 [38400/50000 (77%)]\tLoss: 3.437330\n",
            "Train Epoch: 5 [44800/50000 (90%)]\tLoss: 3.540945\n",
            "Training Accuracy for Epoch 5: 27.12%\n",
            "Train Epoch: 6 [0/50000 (0%)]\tLoss: 3.425112\n",
            "Train Epoch: 6 [6400/50000 (13%)]\tLoss: 3.368640\n",
            "Train Epoch: 6 [12800/50000 (26%)]\tLoss: 3.445050\n",
            "Train Epoch: 6 [19200/50000 (38%)]\tLoss: 3.395260\n",
            "Train Epoch: 6 [25600/50000 (51%)]\tLoss: 3.480921\n",
            "Train Epoch: 6 [32000/50000 (64%)]\tLoss: 3.482723\n",
            "Train Epoch: 6 [38400/50000 (77%)]\tLoss: 3.651875\n",
            "Train Epoch: 6 [44800/50000 (90%)]\tLoss: 3.600419\n",
            "Training Accuracy for Epoch 6: 28.03%\n",
            "Train Epoch: 7 [0/50000 (0%)]\tLoss: 3.331980\n",
            "Train Epoch: 7 [6400/50000 (13%)]\tLoss: 3.279134\n",
            "Train Epoch: 7 [12800/50000 (26%)]\tLoss: 3.379021\n",
            "Train Epoch: 7 [19200/50000 (38%)]\tLoss: 3.506451\n",
            "Train Epoch: 7 [25600/50000 (51%)]\tLoss: 3.355112\n",
            "Train Epoch: 7 [32000/50000 (64%)]\tLoss: 3.429450\n",
            "Train Epoch: 7 [38400/50000 (77%)]\tLoss: 3.494853\n",
            "Train Epoch: 7 [44800/50000 (90%)]\tLoss: 3.306425\n",
            "Training Accuracy for Epoch 7: 29.29%\n",
            "Train Epoch: 8 [0/50000 (0%)]\tLoss: 3.439742\n",
            "Train Epoch: 8 [6400/50000 (13%)]\tLoss: 3.191392\n",
            "Train Epoch: 8 [12800/50000 (26%)]\tLoss: 3.366363\n",
            "Train Epoch: 8 [19200/50000 (38%)]\tLoss: 3.308089\n",
            "Train Epoch: 8 [25600/50000 (51%)]\tLoss: 3.484002\n",
            "Train Epoch: 8 [32000/50000 (64%)]\tLoss: 3.340712\n",
            "Train Epoch: 8 [38400/50000 (77%)]\tLoss: 3.350008\n",
            "Train Epoch: 8 [44800/50000 (90%)]\tLoss: 3.371629\n",
            "Training Accuracy for Epoch 8: 30.69%\n",
            "Train Epoch: 9 [0/50000 (0%)]\tLoss: 3.356481\n",
            "Train Epoch: 9 [6400/50000 (13%)]\tLoss: 3.152775\n",
            "Train Epoch: 9 [12800/50000 (26%)]\tLoss: 3.227394\n",
            "Train Epoch: 9 [19200/50000 (38%)]\tLoss: 3.353745\n",
            "Train Epoch: 9 [25600/50000 (51%)]\tLoss: 3.422385\n",
            "Train Epoch: 9 [32000/50000 (64%)]\tLoss: 3.334100\n",
            "Train Epoch: 9 [38400/50000 (77%)]\tLoss: 3.280644\n",
            "Train Epoch: 9 [44800/50000 (90%)]\tLoss: 3.392615\n",
            "Training Accuracy for Epoch 9: 30.69%\n",
            "Train Epoch: 10 [0/50000 (0%)]\tLoss: 3.407746\n",
            "Train Epoch: 10 [6400/50000 (13%)]\tLoss: 3.308246\n",
            "Train Epoch: 10 [12800/50000 (26%)]\tLoss: 3.193270\n",
            "Train Epoch: 10 [19200/50000 (38%)]\tLoss: 3.305942\n",
            "Train Epoch: 10 [25600/50000 (51%)]\tLoss: 3.355335\n",
            "Train Epoch: 10 [32000/50000 (64%)]\tLoss: 3.246325\n",
            "Train Epoch: 10 [38400/50000 (77%)]\tLoss: 3.333343\n",
            "Train Epoch: 10 [44800/50000 (90%)]\tLoss: 3.294324\n",
            "Training Accuracy for Epoch 10: 31.94%\n",
            "Train Epoch: 11 [0/50000 (0%)]\tLoss: 3.184420\n",
            "Train Epoch: 11 [6400/50000 (13%)]\tLoss: 3.345795\n",
            "Train Epoch: 11 [12800/50000 (26%)]\tLoss: 3.200077\n",
            "Train Epoch: 11 [19200/50000 (38%)]\tLoss: 3.323071\n",
            "Train Epoch: 11 [25600/50000 (51%)]\tLoss: 3.408031\n",
            "Train Epoch: 11 [32000/50000 (64%)]\tLoss: 3.166957\n",
            "Train Epoch: 11 [38400/50000 (77%)]\tLoss: 3.441095\n",
            "Train Epoch: 11 [44800/50000 (90%)]\tLoss: 3.310294\n",
            "Training Accuracy for Epoch 11: 32.40%\n",
            "Train Epoch: 12 [0/50000 (0%)]\tLoss: 3.106148\n",
            "Train Epoch: 12 [6400/50000 (13%)]\tLoss: 3.256979\n",
            "Train Epoch: 12 [12800/50000 (26%)]\tLoss: 3.198767\n",
            "Train Epoch: 12 [19200/50000 (38%)]\tLoss: 3.319700\n",
            "Train Epoch: 12 [25600/50000 (51%)]\tLoss: 3.358962\n",
            "Train Epoch: 12 [32000/50000 (64%)]\tLoss: 3.402282\n",
            "Train Epoch: 12 [38400/50000 (77%)]\tLoss: 3.181716\n",
            "Train Epoch: 12 [44800/50000 (90%)]\tLoss: 3.258139\n",
            "Training Accuracy for Epoch 12: 32.79%\n",
            "Train Epoch: 13 [0/50000 (0%)]\tLoss: 3.218423\n",
            "Train Epoch: 13 [6400/50000 (13%)]\tLoss: 3.316851\n",
            "Train Epoch: 13 [12800/50000 (26%)]\tLoss: 3.305494\n",
            "Train Epoch: 13 [19200/50000 (38%)]\tLoss: 3.333205\n",
            "Train Epoch: 13 [25600/50000 (51%)]\tLoss: 3.369009\n",
            "Train Epoch: 13 [32000/50000 (64%)]\tLoss: 3.254843\n",
            "Train Epoch: 13 [38400/50000 (77%)]\tLoss: 3.293237\n",
            "Train Epoch: 13 [44800/50000 (90%)]\tLoss: 3.091829\n",
            "Training Accuracy for Epoch 13: 33.35%\n",
            "Train Epoch: 14 [0/50000 (0%)]\tLoss: 3.194008\n",
            "Train Epoch: 14 [6400/50000 (13%)]\tLoss: 3.204081\n",
            "Train Epoch: 14 [12800/50000 (26%)]\tLoss: 3.166280\n",
            "Train Epoch: 14 [19200/50000 (38%)]\tLoss: 3.128051\n",
            "Train Epoch: 14 [25600/50000 (51%)]\tLoss: 3.106120\n",
            "Train Epoch: 14 [32000/50000 (64%)]\tLoss: 3.191954\n",
            "Train Epoch: 14 [38400/50000 (77%)]\tLoss: 3.232098\n",
            "Train Epoch: 14 [44800/50000 (90%)]\tLoss: 3.293400\n",
            "Training Accuracy for Epoch 14: 34.08%\n",
            "Train Epoch: 15 [0/50000 (0%)]\tLoss: 3.148881\n",
            "Train Epoch: 15 [6400/50000 (13%)]\tLoss: 3.126465\n",
            "Train Epoch: 15 [12800/50000 (26%)]\tLoss: 3.294188\n",
            "Train Epoch: 15 [19200/50000 (38%)]\tLoss: 3.083625\n",
            "Train Epoch: 15 [25600/50000 (51%)]\tLoss: 3.155437\n",
            "Train Epoch: 15 [32000/50000 (64%)]\tLoss: 3.135900\n",
            "Train Epoch: 15 [38400/50000 (77%)]\tLoss: 3.245322\n",
            "Train Epoch: 15 [44800/50000 (90%)]\tLoss: 3.186060\n",
            "Training Accuracy for Epoch 15: 34.26%\n",
            "Train Epoch: 16 [0/50000 (0%)]\tLoss: 3.123698\n",
            "Train Epoch: 16 [6400/50000 (13%)]\tLoss: 3.207898\n",
            "Train Epoch: 16 [12800/50000 (26%)]\tLoss: 3.321333\n",
            "Train Epoch: 16 [19200/50000 (38%)]\tLoss: 3.203515\n",
            "Train Epoch: 16 [25600/50000 (51%)]\tLoss: 3.182287\n",
            "Train Epoch: 16 [32000/50000 (64%)]\tLoss: 3.375727\n",
            "Train Epoch: 16 [38400/50000 (77%)]\tLoss: 3.213285\n",
            "Train Epoch: 16 [44800/50000 (90%)]\tLoss: 3.485224\n",
            "Training Accuracy for Epoch 16: 34.50%\n",
            "Train Epoch: 17 [0/50000 (0%)]\tLoss: 3.119834\n",
            "Train Epoch: 17 [6400/50000 (13%)]\tLoss: 3.212715\n",
            "Train Epoch: 17 [12800/50000 (26%)]\tLoss: 3.195029\n",
            "Train Epoch: 17 [19200/50000 (38%)]\tLoss: 3.177903\n",
            "Train Epoch: 17 [25600/50000 (51%)]\tLoss: 3.328429\n",
            "Train Epoch: 17 [32000/50000 (64%)]\tLoss: 3.353256\n",
            "Train Epoch: 17 [38400/50000 (77%)]\tLoss: 3.166489\n",
            "Train Epoch: 17 [44800/50000 (90%)]\tLoss: 3.178707\n",
            "Training Accuracy for Epoch 17: 34.82%\n",
            "Train Epoch: 18 [0/50000 (0%)]\tLoss: 3.159283\n",
            "Train Epoch: 18 [6400/50000 (13%)]\tLoss: 3.414473\n",
            "Train Epoch: 18 [12800/50000 (26%)]\tLoss: 3.217280\n",
            "Train Epoch: 18 [19200/50000 (38%)]\tLoss: 3.280914\n",
            "Train Epoch: 18 [25600/50000 (51%)]\tLoss: 3.482141\n",
            "Train Epoch: 18 [32000/50000 (64%)]\tLoss: 3.246522\n",
            "Train Epoch: 18 [38400/50000 (77%)]\tLoss: 3.188171\n",
            "Train Epoch: 18 [44800/50000 (90%)]\tLoss: 3.156679\n",
            "Training Accuracy for Epoch 18: 35.34%\n",
            "Train Epoch: 19 [0/50000 (0%)]\tLoss: 3.158159\n",
            "Train Epoch: 19 [6400/50000 (13%)]\tLoss: 3.177657\n",
            "Train Epoch: 19 [12800/50000 (26%)]\tLoss: 3.292072\n",
            "Train Epoch: 19 [19200/50000 (38%)]\tLoss: 3.132894\n",
            "Train Epoch: 19 [25600/50000 (51%)]\tLoss: 3.239590\n",
            "Train Epoch: 19 [32000/50000 (64%)]\tLoss: 3.147858\n",
            "Train Epoch: 19 [38400/50000 (77%)]\tLoss: 3.272815\n",
            "Train Epoch: 19 [44800/50000 (90%)]\tLoss: 3.231792\n",
            "Training Accuracy for Epoch 19: 35.33%\n"
          ]
        }
      ]
    },
    {
      "cell_type": "code",
      "source": [
        "from google.colab import drive\n",
        "import numpy as np\n",
        "\n",
        "# Mount Google Drive\n",
        "drive.mount('/content/gdrive')\n",
        "\n",
        "# Save arrays to text files\n",
        "np.savetxt('/content/gdrive/My Drive/train_losses.txt', np.array(train_losses), delimiter=',')\n",
        "np.savetxt('/content/gdrive/My Drive/train_accuracies.txt', np.array(train_accuracies), delimiter=',')\n"
      ],
      "metadata": {
        "id": "LRmf7cp2Hy0_",
        "outputId": "70f04a1f-ecd0-4e8d-8b6f-f9b30b6484fc",
        "colab": {
          "base_uri": "https://localhost:8080/"
        }
      },
      "execution_count": 6,
      "outputs": [
        {
          "output_type": "stream",
          "name": "stdout",
          "text": [
            "Mounted at /content/gdrive\n"
          ]
        }
      ]
    },
    {
      "cell_type": "code",
      "source": [
        "# Training Plotting\n",
        "#1. Accuracy vs Epoch\n",
        "import matplotlib.pyplot as plt\n",
        "train_accuracies_exceed=[i+1 for i in train_accuracies]\n",
        "\n",
        "plt.plot(range(1, num_epochs + 1), train_accuracies, label='Training Accuracy')\n",
        "plt.plot(range(1, num_epochs + 1), train_accuracies_exceed, label='Training Accuracy Exceed')\n",
        "\n",
        "plt.xlabel('Epoch')\n",
        "plt.ylabel('Accuracy (%)')\n",
        "plt.title('Training Accuracy Over 20 Epochs')\n",
        "plt.legend()\n",
        "# Save the plot as an image\n",
        "plt.savefig('/content/gdrive/My Drive/DAM-CNN/training_plot.png')\n",
        "plt.show()"
      ],
      "metadata": {
        "colab": {
          "base_uri": "https://localhost:8080/",
          "height": 472
        },
        "id": "BBLNeZeT7f7G",
        "outputId": "093fa5d0-e51f-45cf-ad02-47a0f1225de0"
      },
      "execution_count": 11,
      "outputs": [
        {
          "output_type": "display_data",
          "data": {
            "text/plain": [
              "<Figure size 640x480 with 1 Axes>"
            ],
            "image/png": "[encoded data removed]"
          },
          "metadata": {}
        }
      ]
    },
    {
      "cell_type": "code",
      "source": [
        "# Loss vs Epoch\n",
        "import matplotlib.pyplot as plt\n",
        "\n",
        "plt.plot(range(1, num_epochs + 1), train_losses, label='Training Loss')\n",
        "plt.xlabel('Epoch')\n",
        "plt.ylabel('Loss')\n",
        "plt.title('Training Loss Over Epochs')\n",
        "plt.legend()\n",
        "plt.show()"
      ],
      "metadata": {
        "id": "-X_1Jk25I9I8",
        "outputId": "2bdbdb89-32f4-41e0-92f8-abcde27eb73a",
        "colab": {
          "base_uri": "https://localhost:8080/",
          "height": 472
        }
      },
      "execution_count": 8,
      "outputs": [
        {
          "output_type": "display_data",
          "data": {
            "text/plain": [
              "<Figure size 640x480 with 1 Axes>"
            ],
            "image/png": "[encoded data removed]"
          },
          "metadata": {}
        }
      ]
    },
    {
      "cell_type": "code",
      "source": [
        "from google.colab import drive\n",
        "import matplotlib.pyplot as plt\n",
        "import numpy as np\n",
        "\n",
        "# Mount Google Drive\n",
        "drive.mount('/content/gdrive')\n",
        "\n",
        "# Load train_losses from the text file\n",
        "tpath = '/content/gdrive/My Drive/dam_cnn/cifar100normal/epochs20/train_accuracies.txt'\n",
        "train_accuracies= np.loadtxt(tpath, delimiter=',')\n",
        "\n",
        "# Plot the training losses\n",
        "plt.plot(train_accuracies, label='Training Accuracy')\n",
        "plt.xlabel('Epoch')\n",
        "plt.ylabel('Loss')\n",
        "plt.title('Training Accuracy Over Epochs')\n",
        "plt.legend()\n",
        "plt.show()\n"
      ],
      "metadata": {
        "id": "PWERIReOJHIZ",
        "outputId": "17200e8f-3c7a-4716-a7df-b412742908ad",
        "colab": {
          "base_uri": "https://localhost:8080/",
          "height": 490
        }
      },
      "execution_count": 22,
      "outputs": [
        {
          "output_type": "stream",
          "name": "stdout",
          "text": [
            "Drive already mounted at /content/gdrive; to attempt to forcibly remount, call drive.mount(\"/content/gdrive\", force_remount=True).\n"
          ]
        },
        {
          "output_type": "display_data",
          "data": {
            "text/plain": [
              "<Figure size 640x480 with 1 Axes>"
            ],
            "image/png": "[encoded data removed]"
          },
          "metadata": {}
        }
      ]
    },
    {
      "cell_type": "code",
      "source": [],
      "metadata": {
        "id": "SLxns_PgM5UV"
      },
      "execution_count": null,
      "outputs": []
    },
    {
      "cell_type": "code",
      "source": [],
      "metadata": {
        "id": "I6PxHL2yI-zG"
      },
      "execution_count": null,
      "outputs": []
    },
    {
      "cell_type": "code",
      "source": [],
      "metadata": {
        "id": "9rDulWTUBg6a"
      },
      "execution_count": null,
      "outputs": []
    }
  ],
  "metadata": {
    "accelerator": "GPU",
    "colab": {
      "provenance": [],
      "include_colab_link": true
    },
    "kernelspec": {
      "display_name": "Python 3",
      "name": "python3"
    }
  },
  "nbformat": 4,
  "nbformat_minor": 0
}